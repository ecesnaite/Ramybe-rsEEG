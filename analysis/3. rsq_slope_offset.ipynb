{
 "cells": [
  {
   "cell_type": "code",
   "execution_count": 24,
   "id": "0edc7ea8",
   "metadata": {},
   "outputs": [],
   "source": [
    "import os\n",
    "import numpy as np\n",
    "import pandas as pd\n",
    "import scipy.io as spio\n",
    "from openpyxl import Workbook"
   ]
  },
  {
   "cell_type": "code",
   "execution_count": 25,
   "id": "cd536270",
   "metadata": {},
   "outputs": [],
   "source": [
    "# Specify the directory where the MATLAB data files are located\n",
    "data_dir = '/Users/linagladutyte/Documents/LABES/RAMYBE/FOOF/fooof_params/'\n",
    "file_list = [file.name for file in os.scandir(data_dir) if file.is_file()]"
   ]
  },
  {
   "cell_type": "code",
   "execution_count": 26,
   "id": "426d039a",
   "metadata": {},
   "outputs": [],
   "source": [
    "# Initialize an empty list to store low_rsq values\n",
    "low_rsq = []"
   ]
  },
  {
   "cell_type": "code",
   "execution_count": 27,
   "id": "47a919de",
   "metadata": {},
   "outputs": [],
   "source": [
    "#Extracting subjects and channels with low rsq\n",
    "#THRESHOLD: 0.7 (determined by visual inspection)"
   ]
  },
  {
   "cell_type": "code",
   "execution_count": 28,
   "id": "bef655f6",
   "metadata": {},
   "outputs": [],
   "source": [
    "# Iterate over each MATLAB data file\n",
    "for file_name in file_list:\n",
    "    # Load the MATLAB data file\n",
    "    mat_data = spio.loadmat(os.path.join(data_dir, file_name))\n",
    "    ap_params = mat_data['ap_params'] # Aperiodic Parameters: offset, exponent\n",
    "    r_squared = mat_data['r_squared']\n",
    "\n",
    "    # Get the channel names and subject name from the file name\n",
    "    channel = ap_params.dtype.names\n",
    "    name = file_name.split('_parameters')[0]\n",
    "\n",
    "       # Iterate over each channel in the data file\n",
    "    for ch in range(len(channel)):\n",
    "        rsq = r_squared[0][0][ch][0][0]\n",
    "        \n",
    "        # Check if rsq is below the threshold\n",
    "        if rsq < 0.7:\n",
    "            # Add the low_rsq information to the list\n",
    "            low_rsq.append([name, rsq, ch+1])"
   ]
  },
  {
   "cell_type": "code",
   "execution_count": 29,
   "id": "f398c984",
   "metadata": {},
   "outputs": [],
   "source": [
    "# Create a pandas DataFrame to store the results\n",
    "low_rsq_table = pd.DataFrame(low_rsq, columns = ['id', 'rsq', 'channel_number'])"
   ]
  },
  {
   "cell_type": "code",
   "execution_count": 30,
   "id": "826ec3a3",
   "metadata": {
    "scrolled": false
   },
   "outputs": [
    {
     "data": {
      "text/html": [
       "<div>\n",
       "<style scoped>\n",
       "    .dataframe tbody tr th:only-of-type {\n",
       "        vertical-align: middle;\n",
       "    }\n",
       "\n",
       "    .dataframe tbody tr th {\n",
       "        vertical-align: top;\n",
       "    }\n",
       "\n",
       "    .dataframe thead th {\n",
       "        text-align: right;\n",
       "    }\n",
       "</style>\n",
       "<table border=\"1\" class=\"dataframe\">\n",
       "  <thead>\n",
       "    <tr style=\"text-align: right;\">\n",
       "      <th></th>\n",
       "      <th>id</th>\n",
       "      <th>rsq</th>\n",
       "      <th>channel_number</th>\n",
       "    </tr>\n",
       "  </thead>\n",
       "  <tbody>\n",
       "    <tr>\n",
       "      <th>0</th>\n",
       "      <td>UID_118</td>\n",
       "      <td>0.606576</td>\n",
       "      <td>45</td>\n",
       "    </tr>\n",
       "    <tr>\n",
       "      <th>1</th>\n",
       "      <td>UID_118</td>\n",
       "      <td>0.617038</td>\n",
       "      <td>58</td>\n",
       "    </tr>\n",
       "    <tr>\n",
       "      <th>2</th>\n",
       "      <td>OC_14</td>\n",
       "      <td>0.646972</td>\n",
       "      <td>26</td>\n",
       "    </tr>\n",
       "    <tr>\n",
       "      <th>3</th>\n",
       "      <td>V_604</td>\n",
       "      <td>0.651457</td>\n",
       "      <td>3</td>\n",
       "    </tr>\n",
       "    <tr>\n",
       "      <th>4</th>\n",
       "      <td>V_604</td>\n",
       "      <td>0.499785</td>\n",
       "      <td>18</td>\n",
       "    </tr>\n",
       "  </tbody>\n",
       "</table>\n",
       "</div>"
      ],
      "text/plain": [
       "        id       rsq  channel_number\n",
       "0  UID_118  0.606576              45\n",
       "1  UID_118  0.617038              58\n",
       "2    OC_14  0.646972              26\n",
       "3    V_604  0.651457               3\n",
       "4    V_604  0.499785              18"
      ]
     },
     "execution_count": 30,
     "metadata": {},
     "output_type": "execute_result"
    }
   ],
   "source": [
    "low_rsq_table.head()"
   ]
  },
  {
   "cell_type": "code",
   "execution_count": 31,
   "id": "9d6772ec",
   "metadata": {},
   "outputs": [
    {
     "data": {
      "text/html": [
       "<div>\n",
       "<style scoped>\n",
       "    .dataframe tbody tr th:only-of-type {\n",
       "        vertical-align: middle;\n",
       "    }\n",
       "\n",
       "    .dataframe tbody tr th {\n",
       "        vertical-align: top;\n",
       "    }\n",
       "\n",
       "    .dataframe thead th {\n",
       "        text-align: right;\n",
       "    }\n",
       "</style>\n",
       "<table border=\"1\" class=\"dataframe\">\n",
       "  <thead>\n",
       "    <tr style=\"text-align: right;\">\n",
       "      <th></th>\n",
       "      <th>channel_name</th>\n",
       "      <th>channel_number</th>\n",
       "    </tr>\n",
       "  </thead>\n",
       "  <tbody>\n",
       "    <tr>\n",
       "      <th>0</th>\n",
       "      <td>Fp1</td>\n",
       "      <td>1</td>\n",
       "    </tr>\n",
       "    <tr>\n",
       "      <th>1</th>\n",
       "      <td>Fpz</td>\n",
       "      <td>2</td>\n",
       "    </tr>\n",
       "    <tr>\n",
       "      <th>2</th>\n",
       "      <td>Fp2</td>\n",
       "      <td>3</td>\n",
       "    </tr>\n",
       "    <tr>\n",
       "      <th>3</th>\n",
       "      <td>F7</td>\n",
       "      <td>4</td>\n",
       "    </tr>\n",
       "    <tr>\n",
       "      <th>4</th>\n",
       "      <td>F3</td>\n",
       "      <td>5</td>\n",
       "    </tr>\n",
       "  </tbody>\n",
       "</table>\n",
       "</div>"
      ],
      "text/plain": [
       "  channel_name  channel_number\n",
       "0          Fp1               1\n",
       "1          Fpz               2\n",
       "2          Fp2               3\n",
       "3           F7               4\n",
       "4           F3               5"
      ]
     },
     "execution_count": 31,
     "metadata": {},
     "output_type": "execute_result"
    }
   ],
   "source": [
    "# Read channels from CSV file\n",
    "channels = pd.read_csv('/Users/linagladutyte/Documents/LABES/RAMYBE/FOOF/channels.csv')\n",
    "#add channel numbers\n",
    "channels['channel_number'] = range(1, 63)\n",
    "channels.head()"
   ]
  },
  {
   "cell_type": "code",
   "execution_count": 32,
   "id": "a454a60f",
   "metadata": {},
   "outputs": [],
   "source": [
    "low_rsq_table = low_rsq_table.merge(channels, how='left', on='channel_number')"
   ]
  },
  {
   "cell_type": "code",
   "execution_count": 33,
   "id": "f43de5e0",
   "metadata": {
    "scrolled": true
   },
   "outputs": [
    {
     "data": {
      "text/html": [
       "<div>\n",
       "<style scoped>\n",
       "    .dataframe tbody tr th:only-of-type {\n",
       "        vertical-align: middle;\n",
       "    }\n",
       "\n",
       "    .dataframe tbody tr th {\n",
       "        vertical-align: top;\n",
       "    }\n",
       "\n",
       "    .dataframe thead th {\n",
       "        text-align: right;\n",
       "    }\n",
       "</style>\n",
       "<table border=\"1\" class=\"dataframe\">\n",
       "  <thead>\n",
       "    <tr style=\"text-align: right;\">\n",
       "      <th></th>\n",
       "      <th>id</th>\n",
       "      <th>rsq</th>\n",
       "      <th>channel_number</th>\n",
       "      <th>channel_name</th>\n",
       "    </tr>\n",
       "  </thead>\n",
       "  <tbody>\n",
       "    <tr>\n",
       "      <th>0</th>\n",
       "      <td>UID_118</td>\n",
       "      <td>0.606576</td>\n",
       "      <td>45</td>\n",
       "      <td>C6</td>\n",
       "    </tr>\n",
       "    <tr>\n",
       "      <th>1</th>\n",
       "      <td>UID_118</td>\n",
       "      <td>0.617038</td>\n",
       "      <td>58</td>\n",
       "      <td>FT8</td>\n",
       "    </tr>\n",
       "    <tr>\n",
       "      <th>2</th>\n",
       "      <td>OC_14</td>\n",
       "      <td>0.646972</td>\n",
       "      <td>26</td>\n",
       "      <td>P8</td>\n",
       "    </tr>\n",
       "    <tr>\n",
       "      <th>3</th>\n",
       "      <td>V_604</td>\n",
       "      <td>0.651457</td>\n",
       "      <td>3</td>\n",
       "      <td>Fp2</td>\n",
       "    </tr>\n",
       "    <tr>\n",
       "      <th>4</th>\n",
       "      <td>V_604</td>\n",
       "      <td>0.499785</td>\n",
       "      <td>18</td>\n",
       "      <td>CP5</td>\n",
       "    </tr>\n",
       "  </tbody>\n",
       "</table>\n",
       "</div>"
      ],
      "text/plain": [
       "        id       rsq  channel_number channel_name\n",
       "0  UID_118  0.606576              45           C6\n",
       "1  UID_118  0.617038              58          FT8\n",
       "2    OC_14  0.646972              26           P8\n",
       "3    V_604  0.651457               3          Fp2\n",
       "4    V_604  0.499785              18          CP5"
      ]
     },
     "execution_count": 33,
     "metadata": {},
     "output_type": "execute_result"
    }
   ],
   "source": [
    "low_rsq_table.head()"
   ]
  },
  {
   "cell_type": "code",
   "execution_count": 34,
   "id": "95e0267c",
   "metadata": {},
   "outputs": [],
   "source": [
    "# Calculate the counts of low_rsq per person\n",
    "people_low_rsq = low_rsq_table['id'].value_counts().reset_index()\n",
    "people_low_rsq.columns = ['people_low_rsq', 'chan_per_person']"
   ]
  },
  {
   "cell_type": "code",
   "execution_count": 35,
   "id": "6ef9d5df",
   "metadata": {},
   "outputs": [
    {
     "data": {
      "text/html": [
       "<div>\n",
       "<style scoped>\n",
       "    .dataframe tbody tr th:only-of-type {\n",
       "        vertical-align: middle;\n",
       "    }\n",
       "\n",
       "    .dataframe tbody tr th {\n",
       "        vertical-align: top;\n",
       "    }\n",
       "\n",
       "    .dataframe thead th {\n",
       "        text-align: right;\n",
       "    }\n",
       "</style>\n",
       "<table border=\"1\" class=\"dataframe\">\n",
       "  <thead>\n",
       "    <tr style=\"text-align: right;\">\n",
       "      <th></th>\n",
       "      <th>people_low_rsq</th>\n",
       "      <th>chan_per_person</th>\n",
       "    </tr>\n",
       "  </thead>\n",
       "  <tbody>\n",
       "    <tr>\n",
       "      <th>0</th>\n",
       "      <td>V_619</td>\n",
       "      <td>7</td>\n",
       "    </tr>\n",
       "    <tr>\n",
       "      <th>1</th>\n",
       "      <td>OC_6</td>\n",
       "      <td>5</td>\n",
       "    </tr>\n",
       "    <tr>\n",
       "      <th>2</th>\n",
       "      <td>NCF_229</td>\n",
       "      <td>4</td>\n",
       "    </tr>\n",
       "    <tr>\n",
       "      <th>3</th>\n",
       "      <td>UID_112</td>\n",
       "      <td>3</td>\n",
       "    </tr>\n",
       "    <tr>\n",
       "      <th>4</th>\n",
       "      <td>UID_118</td>\n",
       "      <td>2</td>\n",
       "    </tr>\n",
       "  </tbody>\n",
       "</table>\n",
       "</div>"
      ],
      "text/plain": [
       "  people_low_rsq  chan_per_person\n",
       "0          V_619                7\n",
       "1           OC_6                5\n",
       "2        NCF_229                4\n",
       "3        UID_112                3\n",
       "4        UID_118                2"
      ]
     },
     "execution_count": 35,
     "metadata": {},
     "output_type": "execute_result"
    }
   ],
   "source": [
    "people_low_rsq.head()"
   ]
  },
  {
   "cell_type": "code",
   "execution_count": 36,
   "id": "02772d47",
   "metadata": {
    "scrolled": true
   },
   "outputs": [],
   "source": [
    "# Save the data to an Excel file: one sheet for all IDs and channels with r2<0.7, another with number of channels per person\n",
    "data_frames = [\n",
    "    ('low_rsq_table', low_rsq_table),\n",
    "    ('people_low_rsq', people_low_rsq),\n",
    "    ('channels', channels),\n",
    "]\n",
    "with pd.ExcelWriter('low_rsq_2023_07_12.xlsx') as writer:\n",
    "    for sheet_name, data_frame in data_frames:\n",
    "        data_frame.to_excel(writer, sheet_name=sheet_name, index=False)"
   ]
  },
  {
   "cell_type": "code",
   "execution_count": null,
   "id": "9d4443fe",
   "metadata": {},
   "outputs": [],
   "source": [
    "# V619: 7 channels with low rsq\n",
    "# V619: additional channel to remove: 30 (O2)"
   ]
  },
  {
   "cell_type": "code",
   "execution_count": null,
   "id": "2b73ad2f",
   "metadata": {},
   "outputs": [],
   "source": [
    "#EXTRACTING SLOPE"
   ]
  },
  {
   "cell_type": "code",
   "execution_count": 16,
   "id": "a904bfe0",
   "metadata": {},
   "outputs": [],
   "source": [
    "# Create an empty DataFrame to store the mean slope values\n",
    "median_mean_slope = pd.DataFrame(columns=['ID', 'median_slope', 'mean_slope'])\n",
    "median_mean_offset = pd.DataFrame(columns=['ID', 'median_offset', 'mean_offset'])\n",
    "\n",
    "# Specify the subjects and channels to exclude\n",
    "excluded_channels = [{'name': 'V_619', 'channel': 'channel_30'}]\n",
    "\n",
    "# Initialize an empty matrix to store the slope and offset values\n",
    "slopes_matrix = np.empty((len(file_list), len(channels)))\n",
    "offsets_matrix = np.empty((len(file_list), len(channels)))\n",
    "\n",
    "# Iterate over each MATLAB data file\n",
    "for i, file_name in enumerate(file_list):\n",
    "    # Load the MATLAB data file\n",
    "    mat_data = spio.loadmat(os.path.join(data_dir, file_name))\n",
    "    ap_params = mat_data['ap_params']\n",
    "    r_squared = mat_data['r_squared']\n",
    "\n",
    "    # Get the channel names and subject name from the file name\n",
    "    channels = ap_params.dtype.names\n",
    "    name = file_name.split('_parameters')[0]\n",
    "\n",
    "    # Create empty lists to store values\n",
    "    slope = []\n",
    "    offset = []\n",
    "\n",
    "    # Iterate over each channel in the data file\n",
    "    for ch, channel in enumerate(channels):\n",
    "        rsq = r_squared[0][0][ch][0][0]\n",
    "        off_n_slope = ap_params[0][0][ch][0]\n",
    "\n",
    "        # Check if the channel should be excluded for the specific subject\n",
    "        if (any(excluded['name'] == name and excluded['channel'] == channel for excluded in excluded_channels) or rsq < 0.7):\n",
    "            slope_value = np.nan\n",
    "            offset_value = np.nan\n",
    "        else:\n",
    "            slope_value = off_n_slope[1]\n",
    "            offset_value = off_n_slope[0]\n",
    "\n",
    "        # Append the offset value to the list\n",
    "        offset.append(offset_value)\n",
    "        # Append the slope value to the list\n",
    "        slope.append(slope_value)\n",
    "        # Store the slope value in the slopes matrix\n",
    "        slopes_matrix[i, ch] = slope_value\n",
    "        # Store the slope value in the slopes matrix\n",
    "        offsets_matrix[i, ch] = offset_value\n",
    "\n",
    "    # Calculate the median slope value\n",
    "    median_slope = np.nanmedian(slope, axis=1)\n",
    "    # Calculate the mean slope value\n",
    "    mean_slope = np.nanmean(slope, axis=1)\n",
    "    # Calculate the median offset value\n",
    "    median_offset = np.nanmedian(offset, axis=1)\n",
    "    # Calculate the mean offset value\n",
    "    mean_offset = np.nanmean(offset)\n",
    "\n",
    "    # Update the median_mean_slope DataFrame with the subject's ID and slope values\n",
    "    median_mean_slope.at[i, 'ID'] = name\n",
    "    median_mean_slope.at[i, 'median_slope'] = median_slope\n",
    "    median_mean_slope.at[i, 'mean_slope'] = mean_slope\n",
    "    \n",
    "    # Update the median_mean_offset DataFrame with the subject's ID and offset values\n",
    "    median_mean_offset.at[i, 'ID'] = name\n",
    "    median_mean_offset.at[i, 'median_offset'] = median_offset\n",
    "    median_mean_offset.at[i, 'mean_offset'] = mean_offset"
   ]
  },
  {
   "cell_type": "code",
   "execution_count": null,
   "id": "712be3e6",
   "metadata": {},
   "outputs": [],
   "source": [
    "# Save median and mean slope and offset to excel \n",
    "with pd.ExcelWriter('slope_off_median_mean.xlsx') as writer:\n",
    "    median_mean_slope.to_excel(writer, sheet_name='median_mean_slope', index=False)\n",
    "    median_mean_offset.to_excel(writer, sheet_name='median_mean_offset', index=False)"
   ]
  },
  {
   "cell_type": "code",
   "execution_count": 17,
   "id": "c4dfdf01",
   "metadata": {},
   "outputs": [
    {
     "data": {
      "text/html": [
       "<div>\n",
       "<style scoped>\n",
       "    .dataframe tbody tr th:only-of-type {\n",
       "        vertical-align: middle;\n",
       "    }\n",
       "\n",
       "    .dataframe tbody tr th {\n",
       "        vertical-align: top;\n",
       "    }\n",
       "\n",
       "    .dataframe thead th {\n",
       "        text-align: right;\n",
       "    }\n",
       "</style>\n",
       "<table border=\"1\" class=\"dataframe\">\n",
       "  <thead>\n",
       "    <tr style=\"text-align: right;\">\n",
       "      <th></th>\n",
       "      <th>ID</th>\n",
       "      <th>median_slope</th>\n",
       "      <th>mean_slope</th>\n",
       "    </tr>\n",
       "  </thead>\n",
       "  <tbody>\n",
       "    <tr>\n",
       "      <th>0</th>\n",
       "      <td>NCF_207</td>\n",
       "      <td>1.223921</td>\n",
       "      <td>1.192372</td>\n",
       "    </tr>\n",
       "    <tr>\n",
       "      <th>1</th>\n",
       "      <td>NCF_212</td>\n",
       "      <td>1.600608</td>\n",
       "      <td>1.564022</td>\n",
       "    </tr>\n",
       "    <tr>\n",
       "      <th>2</th>\n",
       "      <td>UID_118</td>\n",
       "      <td>0.630236</td>\n",
       "      <td>0.576662</td>\n",
       "    </tr>\n",
       "    <tr>\n",
       "      <th>3</th>\n",
       "      <td>NCG_337</td>\n",
       "      <td>1.002135</td>\n",
       "      <td>0.936301</td>\n",
       "    </tr>\n",
       "    <tr>\n",
       "      <th>4</th>\n",
       "      <td>UID_110</td>\n",
       "      <td>1.314761</td>\n",
       "      <td>1.235825</td>\n",
       "    </tr>\n",
       "  </tbody>\n",
       "</table>\n",
       "</div>"
      ],
      "text/plain": [
       "        ID median_slope mean_slope\n",
       "0  NCF_207     1.223921   1.192372\n",
       "1  NCF_212     1.600608   1.564022\n",
       "2  UID_118     0.630236   0.576662\n",
       "3  NCG_337     1.002135   0.936301\n",
       "4  UID_110     1.314761   1.235825"
      ]
     },
     "execution_count": 17,
     "metadata": {},
     "output_type": "execute_result"
    }
   ],
   "source": [
    "median_mean_slope.head()"
   ]
  },
  {
   "cell_type": "code",
   "execution_count": 18,
   "id": "8e67660f",
   "metadata": {},
   "outputs": [],
   "source": [
    "# Save slope and offset matrixes to matlab structure\n",
    "\n",
    "data = {'slopes_matrix': slopes_matrix,\n",
    "        'offsets_matrix': offsets_matrix}\n",
    "\n",
    "spio.savemat('slope_off_matrix.mat', data)"
   ]
  },
  {
   "cell_type": "code",
   "execution_count": 19,
   "id": "cbc7fb52",
   "metadata": {},
   "outputs": [],
   "source": [
    "# Create the DataFrame with slope values and modify the index values\n",
    "slope_ch_id = pd.DataFrame(slopes_matrix, columns=channels, index=[int(''.join(filter(str.isdigit, name.split('_parameters')[0]))) for name in file_list])\n",
    "\n",
    "# Create the DataFrame with offset values and modify the index values\n",
    "offset_ch_id = pd.DataFrame(offsets_matrix, columns=channels, index=[int(''.join(filter(str.isdigit, name.split('_parameters')[0]))) for name in file_list])\n"
   ]
  },
  {
   "cell_type": "code",
   "execution_count": 20,
   "id": "a77b1df8",
   "metadata": {},
   "outputs": [],
   "source": [
    "#VALUES FOR EACH SUBJECT AND CHANNEL \n",
    "# Reset the index and rename the column\n",
    "slope_ch_id = slope_ch_id.reset_index().rename(columns={'index': 'id'})\n",
    "\n",
    "offset_ch_id = offset_ch_id.reset_index().rename(columns={'index': 'id'})\n",
    "\n",
    "# Create a mapping dictionary for the 'group' column\n",
    "group_mapping = {\n",
    "    (0, 100): 'OC',\n",
    "    (100, 200): 'IUD',\n",
    "    (200, 300): 'NCF',\n",
    "    (300, 400): 'NCL',\n",
    "    (400, float('inf')): 'M',\n",
    "}\n",
    "\n",
    "# Add the 'group' column based on ID values for slope_ch_id DataFrame\n",
    "slope_ch_id.insert(1, 'group', pd.cut(slope_ch_id['id'], bins=[0, 100, 200, 300, 400, float('inf')], labels=['OC', 'IUD', 'NCF', 'NCL', 'M']))\n",
    "\n",
    "# Add the 'group' column based on ID values for offset_ch_id DataFrame\n",
    "offset_ch_id.insert(1, 'group', pd.cut(offset_ch_id['id'], bins=[0, 100, 200, 300, 400, float('inf')], labels=['OC', 'IUD', 'NCF', 'NCL', 'M']))"
   ]
  },
  {
   "cell_type": "code",
   "execution_count": 21,
   "id": "2883cf9a",
   "metadata": {
    "scrolled": true
   },
   "outputs": [],
   "source": [
    "#MEDIAN VALUES FOR EACH SUBJECT \n",
    "id_group_median_slope = slope_ch_id.iloc[:, 0:2]\n",
    "id_group_median_slope['median_slope'] = slope_ch_id.iloc[:, 2:65].median(axis=1)\n",
    "id_group_median_offset = slope_ch_id.iloc[:, 0:2]\n",
    "id_group_median_offset['median_offset'] = offset_ch_id.iloc[:, 2:65].median(axis=1)"
   ]
  },
  {
   "cell_type": "code",
   "execution_count": 22,
   "id": "d8ee601a",
   "metadata": {},
   "outputs": [],
   "source": [
    "# Remove the 'id' column from slope_ch_id and offset_ch_id\n",
    "slope_ch_id_filtered = slope_ch_id.drop('id', axis=1)\n",
    "offset_ch_id_filtered = offset_ch_id.drop('id', axis=1)\n",
    "\n",
    "# Calculate the median slope values for each channel based on the 'group' column\n",
    "median_slope_ch = slope_ch_id_filtered.groupby('group').median()\n",
    "\n",
    "# Calculate the median offset values for each channel based on the 'group' column\n",
    "median_offset_ch = offset_ch_id_filtered.groupby('group').median()\n",
    "\n",
    "# Reset the index and rename the columns\n",
    "median_slope_ch = median_slope_ch.reset_index().rename(columns={'index': 'group'})\n",
    "median_offset_ch = median_offset_ch.reset_index().rename(columns={'index': 'group'})\n",
    "\n",
    "# Convert the 'group' column to category type\n",
    "median_slope_ch['group'] = median_slope_ch['group'].astype('category')\n",
    "median_offset_ch['group'] = median_offset_ch['group'].astype('category')"
   ]
  },
  {
   "cell_type": "code",
   "execution_count": 40,
   "id": "184256d9",
   "metadata": {},
   "outputs": [],
   "source": [
    "data_frames = [\n",
    "    ('slope_each_ch_sbj', slope_ch_id),\n",
    "    ('median_slope_groups', median_slope_ch),\n",
    "    ('id_group_median_slope', id_group_median_slope),\n",
    "    ('offset_each_ch_sbj', offset_ch_id),\n",
    "    ('offset_slope_groups', median_offset_ch),\n",
    "    ('id_group_median_offset', id_group_median_offset),\n",
    "]\n",
    "\n",
    "with pd.ExcelWriter('slope_off_ch_groups.xlsx') as writer:\n",
    "    for sheet_name, data_frame in data_frames:\n",
    "        data_frame.to_excel(writer, sheet_name=sheet_name, index=False)\n"
   ]
  },
  {
   "cell_type": "code",
   "execution_count": null,
   "id": "3b8511f9",
   "metadata": {},
   "outputs": [],
   "source": []
  },
  {
   "cell_type": "code",
   "execution_count": null,
   "id": "81ed0f0a",
   "metadata": {},
   "outputs": [],
   "source": []
  },
  {
   "cell_type": "code",
   "execution_count": null,
   "id": "950bda73",
   "metadata": {},
   "outputs": [],
   "source": []
  }
 ],
 "metadata": {
  "kernelspec": {
   "display_name": "Python 3 (ipykernel)",
   "language": "python",
   "name": "python3"
  },
  "language_info": {
   "codemirror_mode": {
    "name": "ipython",
    "version": 3
   },
   "file_extension": ".py",
   "mimetype": "text/x-python",
   "name": "python",
   "nbconvert_exporter": "python",
   "pygments_lexer": "ipython3",
   "version": "3.10.11"
  }
 },
 "nbformat": 4,
 "nbformat_minor": 5
}
