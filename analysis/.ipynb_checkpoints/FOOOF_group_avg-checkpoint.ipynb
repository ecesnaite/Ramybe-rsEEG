{
 "cells": [
  {
   "cell_type": "code",
   "execution_count": 1,
   "id": "eaa33150",
   "metadata": {},
   "outputs": [
    {
     "name": "stderr",
     "output_type": "stream",
     "text": [
      "/var/folders/f9/c7c43dks1tq0xh5s764xfnxh0000gn/T/ipykernel_82616/2747575886.py:5: DeprecationWarning: \n",
      "The `fooof` package is being deprecated and replaced by the `specparam` (spectral parameterization) package.\n",
      "This version of `fooof` (1.1) is fully functional, but will not be further updated.\n",
      "New projects are recommended to update to using `specparam` (see Changelog for details).\n",
      "  from fooof import FOOOF, FOOOFGroup\n"
     ]
    }
   ],
   "source": [
    "\n",
    "import os as os\n",
    "import scipy.io as spio\n",
    "import numpy as np\n",
    "\n",
    "from fooof import FOOOF, FOOOFGroup\n",
    "from fooof.plts.annotate import plot_annotated_peak_search\n",
    "\n",
    "import matplotlib.pyplot as plt\n",
    "from matplotlib.backends.backend_pdf import PdfPages\n",
    "import sys\n",
    "\n",
    "\n",
    "%matplotlib inline"
   ]
  },
  {
   "cell_type": "code",
   "execution_count": 2,
   "id": "8cd41894",
   "metadata": {},
   "outputs": [],
   "source": [
    "data = spio.loadmat('/Users/ecesnaite/Desktop/BuschLab/Ramybe-rsEEG/analysis/pz_psd_groups.mat', squeeze_me=True)#a .mat file structure that contains all subjects (as rows) and their PSD values for each EEG channel in 'psd' structure\n",
    "data_all = data['psd_avg']"
   ]
  },
  {
   "cell_type": "code",
   "execution_count": 3,
   "id": "f0b72068",
   "metadata": {},
   "outputs": [],
   "source": [
    "# Set the frequency range upon which to fit FOOOF\n",
    "freq_range = [3, 40]\n",
    "\n",
    "# Initialize the results list\n",
    "results = [] \n",
    "result =[]"
   ]
  },
  {
   "cell_type": "code",
   "execution_count": 4,
   "id": "0325f692",
   "metadata": {},
   "outputs": [
    {
     "ename": "IndexError",
     "evalue": "tuple index out of range",
     "output_type": "error",
     "traceback": [
      "\u001b[0;31m---------------------------------------------------------------------------\u001b[0m",
      "\u001b[0;31mIndexError\u001b[0m                                Traceback (most recent call last)",
      "Cell \u001b[0;32mIn[4], line 5\u001b[0m\n\u001b[1;32m      2\u001b[0m chan\u001b[38;5;241m=\u001b[39m\u001b[38;5;241m0\u001b[39m\n\u001b[1;32m      4\u001b[0m \u001b[38;5;66;03m# no of subjects\u001b[39;00m\n\u001b[0;32m----> 5\u001b[0m data_all\u001b[38;5;241m.\u001b[39mshape[\u001b[38;5;241m0\u001b[39m]\n",
      "\u001b[0;31mIndexError\u001b[0m: tuple index out of range"
     ]
    }
   ],
   "source": [
    "subj=0\n",
    "chan=0"
   ]
  },
  {
   "cell_type": "code",
   "execution_count": 10,
   "id": "c41ec14c",
   "metadata": {},
   "outputs": [
    {
     "data": {
      "text/plain": [
       "array(array([ 0.  ,  0.25,  0.5 ,  0.75,  1.  ,  1.25,  1.5 ,  1.75,  2.  ,\n",
       "        2.25,  2.5 ,  2.75,  3.  ,  3.25,  3.5 ,  3.75,  4.  ,  4.25,\n",
       "        4.5 ,  4.75,  5.  ,  5.25,  5.5 ,  5.75,  6.  ,  6.25,  6.5 ,\n",
       "        6.75,  7.  ,  7.25,  7.5 ,  7.75,  8.  ,  8.25,  8.5 ,  8.75,\n",
       "        9.  ,  9.25,  9.5 ,  9.75, 10.  , 10.25, 10.5 , 10.75, 11.  ,\n",
       "       11.25, 11.5 , 11.75, 12.  , 12.25, 12.5 , 12.75, 13.  , 13.25,\n",
       "       13.5 , 13.75, 14.  , 14.25, 14.5 , 14.75, 15.  , 15.25, 15.5 ,\n",
       "       15.75, 16.  , 16.25, 16.5 , 16.75, 17.  , 17.25, 17.5 , 17.75,\n",
       "       18.  , 18.25, 18.5 , 18.75, 19.  , 19.25, 19.5 , 19.75, 20.  ,\n",
       "       20.25, 20.5 , 20.75, 21.  , 21.25, 21.5 , 21.75, 22.  , 22.25,\n",
       "       22.5 , 22.75, 23.  , 23.25, 23.5 , 23.75, 24.  , 24.25, 24.5 ,\n",
       "       24.75, 25.  , 25.25, 25.5 , 25.75, 26.  , 26.25, 26.5 , 26.75,\n",
       "       27.  , 27.25, 27.5 , 27.75, 28.  , 28.25, 28.5 , 28.75, 29.  ,\n",
       "       29.25, 29.5 , 29.75, 30.  , 30.25, 30.5 , 30.75, 31.  , 31.25,\n",
       "       31.5 , 31.75, 32.  , 32.25, 32.5 , 32.75, 33.  , 33.25, 33.5 ,\n",
       "       33.75, 34.  , 34.25, 34.5 , 34.75, 35.  , 35.25, 35.5 , 35.75,\n",
       "       36.  , 36.25, 36.5 , 36.75, 37.  , 37.25, 37.5 , 37.75, 38.  ,\n",
       "       38.25, 38.5 , 38.75, 39.  , 39.25, 39.5 , 39.75, 40.  , 40.25,\n",
       "       40.5 , 40.75, 41.  , 41.25, 41.5 , 41.75, 42.  , 42.25, 42.5 ,\n",
       "       42.75, 43.  , 43.25, 43.5 , 43.75, 44.  , 44.25, 44.5 , 44.75,\n",
       "       45.  ], dtype=float32), dtype=object)"
      ]
     },
     "execution_count": 10,
     "metadata": {},
     "output_type": "execute_result"
    }
   ],
   "source": [
    "data_all['freq']"
   ]
  },
  {
   "cell_type": "code",
   "execution_count": 5,
   "id": "1deea6f9",
   "metadata": {},
   "outputs": [],
   "source": [
    "# Specify the directory path \n",
    "directory = '/Users/ecesnaite/Desktop/BuschLab/Ramybe-rsEEG/analysis/'"
   ]
  },
  {
   "cell_type": "code",
   "execution_count": null,
   "id": "3b5666b0",
   "metadata": {},
   "outputs": [],
   "source": [
    "fm = FOOOF(peak_threshold=2.0)\n",
    "    data = data_all['spect'][subj]\n",
    "    name = data_all['ID'][subj]\n",
    "    freqs = data_all['freq'][subj]\n",
    "\n",
    "    # Create empty dictionaries for each parameter\n",
    "    ap_params_dict = {}"
   ]
  },
  {
   "cell_type": "code",
   "execution_count": null,
   "id": "bef111c5",
   "metadata": {},
   "outputs": [],
   "source": [
    "# Iterate over subjects\n",
    "for subj in range(4):\n",
    "    fm = FOOOF(peak_threshold=2.0)\n",
    "    data = data_all['spect'][subj]\n",
    "    name = data_all['ID'][subj]\n",
    "    freqs = data_all['freq'][subj]\n",
    "\n",
    "    # Create empty dictionaries for each parameter\n",
    "    ap_params_dict = {}\n",
    "    peak_params_dict = {}\n",
    "    r_squared_dict = {}\n",
    "    fit_error_dict = {}\n",
    "    gauss_params_dict = {}\n",
    "\n",
    "    # Iterate over channels\n",
    "    for chan in range(data.shape[0]):\n",
    "        spectrum = data[chan]\n",
    "\n",
    "        # Fit the model\n",
    "        fm.fit(freqs, spectrum, freq_range)\n",
    "        #fm.report()\n",
    "\n",
    "        # Get the model fit results\n",
    "        ap_params, peak_params, r_squared, fit_error, gauss_params = fm.get_results()\n",
    "\n",
    "        # Save each parameter separately for each channel\n",
    "        ap_params_dict[f'channel_{chan+1}'] = ap_params # Aperiodic Parameters: offset, exponent\n",
    "        peak_params_dict[f'channel_{chan+1}'] = peak_params #  center frequency(CF); power (PW); band width (BW)\n",
    "        r_squared_dict[f'channel_{chan+1}'] = r_squared \n",
    "        fit_error_dict[f'channel_{chan+1}'] = fit_error \n",
    "        gauss_params_dict[f'channel_{chan+1}'] = gauss_params #gaussian fit. params: CF; PW; BW"
   ]
  },
  {
   "cell_type": "code",
   "execution_count": null,
   "id": "83a4a486",
   "metadata": {},
   "outputs": [],
   "source": [
    "# Save each parameter dictionary for the subject as MATLAB .mat file\n",
    "    savename = f'{name}_parameters.mat'\n",
    "    spio.savemat(savename, mdict={'ap_params': ap_params_dict, \n",
    "                                  'peak_params': peak_params_dict,\n",
    "                                  'r_squared': r_squared_dict,\n",
    "                                  'fit_error': fit_error_dict,\n",
    "                                  'gauss_params': gauss_params_dict})"
   ]
  },
  {
   "cell_type": "code",
   "execution_count": null,
   "id": "5a3d391b",
   "metadata": {},
   "outputs": [],
   "source": [
    "##### to plot parameters for one subject \n",
    "\n",
    "\n",
    "#Specify the identification code of the subject you want to extract parameters for\n",
    "subj_id = 'UID_102'\n",
    "\n",
    "# Iterate over subjects\n",
    "for subj in range(data_all.shape[0]):\n",
    "    fm = FOOOF(peak_threshold=1.0)\n",
    "    data = data_all['spect'][subj]\n",
    "    name = data_all['ID'][subj]\n",
    "    freqs = data_all['freq'][subj]\n",
    "\n",
    "    if name == subj_id:\n",
    "        # Iterate over channels\n",
    "        for chan in range(data.shape[0]):\n",
    "            spectrum = data[chan]\n",
    "\n",
    "            # Fit the model\n",
    "            fm.fit(freqs, spectrum, freq_range)\n",
    "            fm.report()"
   ]
  },
  {
   "cell_type": "code",
   "execution_count": null,
   "id": "36226d77",
   "metadata": {},
   "outputs": [],
   "source": [
    "##### to plot parameters for specific subject and channel\n",
    "\n",
    "# Specify the identification code of the subject you want to extract parameters for\n",
    "subj_id = 'NCF_207'\n",
    "# Specify the channel number you want to extract parameters for\n",
    "channel_num = 27\n",
    "\n",
    "# Iterate over subjects\n",
    "for subj in range(data_all.shape[0]):\n",
    "    fm = FOOOF(peak_threshold=2.0)\n",
    "    data = data_all['spect'][subj]\n",
    "    name = data_all['ID'][subj]\n",
    "    freqs = data_all['freq'][subj]\n",
    "\n",
    "    if name == subj_id:\n",
    "        # Iterate over channels\n",
    "        for chan in range(data.shape[0]):\n",
    "            if chan == channel_num:\n",
    "                spectrum = data[chan]\n",
    "\n",
    "                # Fit the model\n",
    "                fm.fit(freqs, spectrum, freq_range)\n",
    "                fm.report()\n",
    "                \n",
    "                plot_annotated_peak_search(fm) # illustrate peak search "
   ]
  },
  {
   "cell_type": "code",
   "execution_count": null,
   "id": "6938b930",
   "metadata": {},
   "outputs": [],
   "source": []
  },
  {
   "cell_type": "code",
   "execution_count": null,
   "id": "68841519",
   "metadata": {},
   "outputs": [],
   "source": []
  },
  {
   "cell_type": "code",
   "execution_count": null,
   "id": "7aed30d1",
   "metadata": {},
   "outputs": [],
   "source": []
  },
  {
   "cell_type": "code",
   "execution_count": null,
   "id": "c1cea77c",
   "metadata": {},
   "outputs": [],
   "source": []
  }
 ],
 "metadata": {
  "kernelspec": {
   "display_name": "Python 3 (ipykernel)",
   "language": "python",
   "name": "python3"
  },
  "language_info": {
   "codemirror_mode": {
    "name": "ipython",
    "version": 3
   },
   "file_extension": ".py",
   "mimetype": "text/x-python",
   "name": "python",
   "nbconvert_exporter": "python",
   "pygments_lexer": "ipython3",
   "version": "3.11.4"
  }
 },
 "nbformat": 4,
 "nbformat_minor": 5
}
