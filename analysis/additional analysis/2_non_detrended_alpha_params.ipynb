{
 "cells": [
  {
   "cell_type": "markdown",
   "id": "0e8e50dc-4d73-4c76-8efb-1b9573f32dab",
   "metadata": {},
   "source": [
    "This script was written to extract alpha band parameters (individual alpha peak (IAF) and alpha power (lower and upper), peak width, peak start, and peak end) from the .mat data. \n",
    "* The alpha band parameters were calculated using a custom Matlab script:\n",
    "    * 'adapted_el_a1_a2_bandpower_non_detrended_.m' to calculate parameters on non-detrended PSD\n",
    "    * each of the parameters was saved to a separate .mat file\n",
    "\n",
    "The second part of the script is for data visualization between groups"
   ]
  },
  {
   "cell_type": "code",
   "execution_count": null,
   "id": "0edc7ea8",
   "metadata": {},
   "outputs": [],
   "source": [
    "import numpy as np\n",
    "import pandas as pd\n",
    "import scipy.io as spio\n",
    "from openpyxl import Workbook\n",
    "import seaborn as sns\n",
    "import matplotlib.pyplot as plt"
   ]
  },
  {
   "cell_type": "markdown",
   "id": "28c5596b",
   "metadata": {},
   "source": [
    "## Loading and Preparing the Data"
   ]
  },
  {
   "cell_type": "code",
   "execution_count": null,
   "id": "0df6f439",
   "metadata": {},
   "outputs": [],
   "source": [
    "# Define the file paths and parameter names\n",
    "# update the file path to .mat files \n",
    "file_paths = {\n",
    "    'iaf': '',\n",
    "    'broadpow': '',\n",
    "    'lowerpow': '',\n",
    "    'upperpow': '',\n",
    "    'peakwidth': '',\n",
    "    'peakstart': '',\n",
    "    'peakend': ''\n",
    "}"
   ]
  },
  {
   "cell_type": "code",
   "execution_count": null,
   "id": "80e8da1e",
   "metadata": {},
   "outputs": [],
   "source": [
    "# Load the MATLAB matrices into a dictionary\n",
    "data = {}\n",
    "for param_name, file_path in file_paths.items():\n",
    "    data[param_name] = spio.loadmat(file_path)[param_name]"
   ]
  },
  {
   "cell_type": "code",
   "execution_count": null,
   "id": "be76b4d6",
   "metadata": {},
   "outputs": [],
   "source": [
    "# Extract additional data\n",
    "subj_id_mat = spio.loadmat('')['ID_all'][0]\n",
    "channels_mat = spio.loadmat('')['chan_label'][0]"
   ]
  },
  {
   "cell_type": "code",
   "execution_count": null,
   "id": "3646867c",
   "metadata": {},
   "outputs": [],
   "source": [
    "# Convert subject and channel names to lists\n",
    "names = [str(name[0]) for name in subj_id_mat]\n",
    "channels = [str(channel[0]) for channel in channels_mat]"
   ]
  },
  {
   "cell_type": "code",
   "execution_count": null,
   "id": "c2cde65c",
   "metadata": {},
   "outputs": [],
   "source": [
    "# Create a dictionary to store DataFrames\n",
    "param_data = {}\n",
    "\n",
    "# Create DataFrames and apply the common operations for each parameter\n",
    "for param_name in file_paths.keys():\n",
    "    param_matrix = data[param_name]\n",
    "    param_df = pd.DataFrame(param_matrix, columns=channels, index=[int(''.join(filter(str.isdigit, name))) for name in names])\n",
    "    \n",
    "    # Reset the index and rename the column\n",
    "    param_df = param_df.reset_index().rename(columns={'index': 'id'})\n",
    "    \n",
    "    # Create a mapping dictionary for the 'group' column\n",
    "    group_mapping = {\n",
    "        (0, 100): 'OC',\n",
    "        (100, 200): 'IUD',\n",
    "        (200, 300): 'NCF',\n",
    "        (300, 400): 'NCL',\n",
    "        (400, float('inf')): 'M',\n",
    "    }\n",
    "    \n",
    "    # Add the 'group' column based on ID values\n",
    "    param_df.insert(1, 'group', pd.cut(param_df['id'], bins=[0, 100, 200, 300, 400, float('inf')], labels=['OC', 'IUD', 'NCF', 'NCL', 'M']))\n",
    "    \n",
    "    # Store the DataFrame in the dictionary with its parameter name as the key\n",
    "    param_data[param_name] = param_df"
   ]
  },
  {
   "cell_type": "markdown",
   "id": "e0f94797",
   "metadata": {},
   "source": [
    "### Subject data where alpha peak was not detected in more than 50% of the channels were excluded from the analysis."
   ]
  },
  {
   "cell_type": "code",
   "execution_count": null,
   "id": "f003855e",
   "metadata": {},
   "outputs": [],
   "source": [
    "iaf_nan = []\n",
    "nan_threshold = 31\n",
    "subjects_exclude = []\n",
    "\n",
    "for index, row in param_data['iaf'].iterrows():\n",
    "    subject_id = row['id']\n",
    "    nan_count = row.isnull().sum()\n",
    "    \n",
    "    if nan_count > nan_threshold:\n",
    "        subjects_exclude.append(subject_id)\n",
    "        print(f\"Subject ID: {subject_id}, NaN count: {nan_count}\")"
   ]
  },
  {
   "cell_type": "code",
   "execution_count": null,
   "id": "a0be647f",
   "metadata": {},
   "outputs": [],
   "source": [
    "# Create a dictionary to store the filtered DataFrames\n",
    "filtered_data = {}\n",
    "\n",
    "# Iterate over the DataFrames in the param_data dictionary\n",
    "for param_name, param_df in param_data.items():\n",
    "    # Filter out rows with subjects in the subjects_exclude list\n",
    "    filtered_param_df = param_df[~param_df['id'].isin(subjects_exclude)]\n",
    "    \n",
    "    # Store the filtered DataFrame in the filtered_data dictionary\n",
    "    filtered_data[param_name] = filtered_param_df"
   ]
  },
  {
   "cell_type": "markdown",
   "id": "6eb05ac9-6fa8-4bd6-8514-2242bef48302",
   "metadata": {},
   "source": [
    "### Extracting data from specified channel(s)"
   ]
  },
  {
   "cell_type": "code",
   "execution_count": null,
   "id": "08f9a85d",
   "metadata": {
    "scrolled": true
   },
   "outputs": [],
   "source": [
    "# List of parameters\n",
    "parameters = ['iaf', 'broadpow', 'lowerpow', 'upperpow', 'peakwidth']\n",
    "\n",
    "# Specify the channel\n",
    "channel = ''\n",
    "\n",
    "# Initialize an empty dictionary to store the extracted columns for each parameter\n",
    "data_channel = {}\n",
    "\n",
    "# Loop through the parameters and extract the 'id', 'group', and specified channel columns\n",
    "for param in parameters:\n",
    "    parameter = filtered_data[param][['id', 'group', channel]]\n",
    "    data_channel[param] = parameter"
   ]
  },
  {
   "cell_type": "code",
   "execution_count": null,
   "id": "d2bbecbb",
   "metadata": {},
   "outputs": [],
   "source": [
    "# Save values from pz for each parameter to separate Excel sheets\n",
    "with pd.ExcelWriter(f'parameters_{channel}_group.xlsx') as writer:\n",
    "    for param_name, param in data_channel.items():\n",
    "        param.to_excel(writer, sheet_name=param_name, index=False)"
   ]
  },
  {
   "cell_type": "markdown",
   "id": "7f76a0f4-e860-4854-9035-5a700192af73",
   "metadata": {},
   "source": [
    "### Calculating Median Parameter Values (each subject)"
   ]
  },
  {
   "cell_type": "code",
   "execution_count": null,
   "id": "a03eff4a",
   "metadata": {},
   "outputs": [],
   "source": [
    "# Create a dictionary to store median DataFrames for each parameter\n",
    "median_subj_data = {}\n",
    "\n",
    "# Calculate median values for each parameter\n",
    "for param_name, param_df in filtered_data.items():\n",
    "    id_group_median = param_df.iloc[:, 0:2]\n",
    "    id_group_median[f'median_{param_name}'] = param_df.iloc[:, 2:].median(axis=1)\n",
    "    median_subj_data[param_name] = id_group_median"
   ]
  },
  {
   "cell_type": "code",
   "execution_count": null,
   "id": "746f8cb3",
   "metadata": {},
   "outputs": [],
   "source": [
    "# Save median values for each parameter to separate Excel sheets\n",
    "with pd.ExcelWriter('median_subj_group.xlsx') as writer:\n",
    "    for param_name, median_df in median_subj_data.items():\n",
    "        median_df.to_excel(writer, sheet_name=param_name, index=False)"
   ]
  },
  {
   "cell_type": "code",
   "execution_count": null,
   "id": "5f75f616",
   "metadata": {},
   "outputs": [],
   "source": [
    "# Create a dictionary to store median DataFrames for each parameter and channel\n",
    "median_channel_data = {}\n",
    "\n",
    "# Iterate through the filtered_data dictionary for each parameter\n",
    "for param_name, param_df in filtered_data.items():\n",
    "    # Remove the 'id' column\n",
    "    param_ch_id_filtered = param_df.drop('id', axis=1)\n",
    "    \n",
    "    # Calculate the median values for each channel based on the 'group' column\n",
    "    median_ch = param_ch_id_filtered.groupby('group').median()\n",
    "    \n",
    "    # Reset the index and rename the columns\n",
    "    median_ch = median_ch.reset_index().rename(columns={'index': 'group'})\n",
    "    \n",
    "    # Convert the 'group' column to category type\n",
    "    median_ch['group'] = median_ch['group'].astype('category')\n",
    "    \n",
    "    # Store the median DataFrame for the parameter and channel\n",
    "    median_channel_data[param_name] = median_ch"
   ]
  },
  {
   "cell_type": "code",
   "execution_count": null,
   "id": "0f17f8b3",
   "metadata": {},
   "outputs": [],
   "source": [
    "# Save median values for each parameter to separate Excel sheets\n",
    "with pd.ExcelWriter('median_chan_group.xlsx') as writer:\n",
    "    for param_name, median_ch_df in median_channel_data.items():\n",
    "        median_ch_df.to_excel(writer, sheet_name=param_name, index=False)"
   ]
  },
  {
   "cell_type": "markdown",
   "id": "bf428cfd",
   "metadata": {},
   "source": [
    "# VISUALIZATION"
   ]
  },
  {
   "cell_type": "markdown",
   "id": "7b987f3e",
   "metadata": {},
   "source": [
    "### Function to plot parameters:"
   ]
  },
  {
   "cell_type": "code",
   "execution_count": null,
   "id": "29438421",
   "metadata": {},
   "outputs": [],
   "source": [
    "import matplotlib.pyplot as plt\n",
    "import seaborn as sns\n",
    "\n",
    "def plot_violin_with_scatter(param_name, median_subj_data, title=None, x_label=None, y_label=None):\n",
    "    \"\"\"\n",
    "    Plot a violin plot with a scatterplot on top for a specified parameter.\n",
    "\n",
    "    Args:\n",
    "        param_name (str): The name of the parameter to plot (e.g., 'iaf', 'alpha1', 'alpha2', 'power', 'width').\n",
    "        median_subj_data (dict): A dictionary containing DataFrames for different parameters.\n",
    "        title (str, optional): Custom title for the plot.\n",
    "        x_label (str, optional): Custom label for the x-axis.\n",
    "        y_label (str, optional): Custom label for the y-axis.\n",
    "\n",
    "    \"\"\"\n",
    "    # Extract the DataFrame for the specified parameter\n",
    "    param_data = median_subj_data[param_name]\n",
    "\n",
    "    # Set the figure size for the plot\n",
    "    plt.figure(figsize=(12, 8))\n",
    "\n",
    "    # Create a violin plot for the parameter\n",
    "    sns.violinplot(x='group', y=f'median_{param_name}', data=param_data)\n",
    "\n",
    "    # Create a scatterplot on top\n",
    "    sns.stripplot(x='group', y=f'median_{param_name}', data=param_data, color='red', jitter=True, size=5)\n",
    "\n",
    "    # Set the title and labels\n",
    "    if title:\n",
    "        plt.title(title)\n",
    "    else:\n",
    "        plt.title(f'Median {param_name.upper()} Value')  # Default title with PARAM_NAME in uppercase\n",
    "    \n",
    "    if x_label:\n",
    "        plt.xlabel(x_label)\n",
    "    else:\n",
    "        plt.xlabel('Group')\n",
    "    \n",
    "    if y_label:\n",
    "        plt.ylabel(y_label)\n",
    "    else:\n",
    "        plt.ylabel(f'Median {param_name.upper()} Value')  # Default y-axis label\n",
    "\n",
    "    # Show the plot\n",
    "    plt.show()\n"
   ]
  },
  {
   "cell_type": "code",
   "execution_count": null,
   "id": "612f5a06",
   "metadata": {},
   "outputs": [],
   "source": [
    "def plot_boxplot_with_scatter(param_name, median_subj_data, title=None, x_label=None, y_label=None):\n",
    "    \"\"\"\n",
    "    Plot a boxplot with a scatterplot on top for a specified parameter.\n",
    "\n",
    "    Args:\n",
    "        param_name (str): The name of the parameter to plot (e.g., 'iaf', 'alpha1', 'alpha2', 'power', 'width').\n",
    "        median_subj_data (dict): A dictionary containing DataFrames for different parameters.\n",
    "        title (str, optional): Custom title for the plot.\n",
    "        x_label (str, optional): Custom label for the x-axis.\n",
    "        y_label (str, optional): Custom label for the y-axis.\n",
    "\n",
    "    \"\"\"\n",
    "    # Extract the DataFrame for the specified parameter\n",
    "    param_data = median_subj_data[param_name]\n",
    "\n",
    "    # Set the figure size for the plot\n",
    "    plt.figure(figsize=(12, 8))\n",
    "\n",
    "    # Create a boxplot for the parameter\n",
    "    sns.boxplot(x='group', y=f'median_{param_name}', data=param_data, width=0.5, showfliers=False)\n",
    "\n",
    "    # Create a scatterplot on top\n",
    "    sns.stripplot(x='group', y=f'median_{param_name}', data=param_data, color='red', jitter=True, size=5)\n",
    "\n",
    "    # Set the title and labels\n",
    "    if title:\n",
    "        plt.title(title)\n",
    "    else:\n",
    "        plt.title(f'Median {param_name.upper()}')  # Default title with PARAM_NAME in uppercase\n",
    "    \n",
    "    if x_label:\n",
    "        plt.xlabel(x_label)\n",
    "    else:\n",
    "        plt.xlabel('Group')\n",
    "    \n",
    "    if y_label:\n",
    "        plt.ylabel(y_label)\n",
    "    else:\n",
    "        plt.ylabel(f'Median {param_name.upper()} Value')  # Default y-axis label\n",
    "\n",
    "    # Show the plot\n",
    "    plt.show()\n"
   ]
  },
  {
   "cell_type": "markdown",
   "id": "c4f7fa32",
   "metadata": {},
   "source": [
    "## IAF"
   ]
  },
  {
   "cell_type": "code",
   "execution_count": null,
   "id": "56ca97af",
   "metadata": {},
   "outputs": [],
   "source": [
    "plot_boxplot_with_scatter('iaf', median_subj_data, y_label = 'IAF (Hz)')"
   ]
  },
  {
   "cell_type": "markdown",
   "id": "5cdd7266",
   "metadata": {},
   "source": [
    "## Alpha power"
   ]
  },
  {
   "cell_type": "code",
   "execution_count": null,
   "id": "8f2389c9",
   "metadata": {
    "scrolled": true
   },
   "outputs": [],
   "source": [
    "plot_boxplot_with_scatter('broadpow', median_subj_data, title = 'Median alpha power', y_label= 'Alpha power (µV²)')"
   ]
  },
  {
   "cell_type": "markdown",
   "id": "5dfa3a7f",
   "metadata": {},
   "source": [
    "## Lower alpha power"
   ]
  },
  {
   "cell_type": "code",
   "execution_count": null,
   "id": "ef42a076",
   "metadata": {
    "scrolled": true
   },
   "outputs": [],
   "source": [
    "plot_boxplot_with_scatter('lowerpow', median_subj_data, title = 'Median lower alpha power', y_label= 'Alpha1 power (µV²)')"
   ]
  },
  {
   "cell_type": "markdown",
   "id": "69caaa7e",
   "metadata": {},
   "source": [
    "## Upper alpha power"
   ]
  },
  {
   "cell_type": "code",
   "execution_count": null,
   "id": "649eb065",
   "metadata": {},
   "outputs": [],
   "source": [
    "plot_boxplot_with_scatter('upperpow', median_subj_data, title = 'Median upper alpha power', y_label= 'Alpha2 power (µV²)')"
   ]
  },
  {
   "cell_type": "markdown",
   "id": "97ed77ce",
   "metadata": {},
   "source": [
    "## Alpha width"
   ]
  },
  {
   "cell_type": "code",
   "execution_count": null,
   "id": "b08b4759",
   "metadata": {},
   "outputs": [],
   "source": [
    "plot_boxplot_with_scatter('peakwidth', median_subj_data, title = 'Meadian alpha peak width', y_label= 'Peak width (Hz)')"
   ]
  }
 ],
 "metadata": {
  "kernelspec": {
   "display_name": "Python 3 (ipykernel)",
   "language": "python",
   "name": "python3"
  },
  "language_info": {
   "codemirror_mode": {
    "name": "ipython",
    "version": 3
   },
   "file_extension": ".py",
   "mimetype": "text/x-python",
   "name": "python",
   "nbconvert_exporter": "python",
   "pygments_lexer": "ipython3",
   "version": "3.10.13"
  }
 },
 "nbformat": 4,
 "nbformat_minor": 5
}
