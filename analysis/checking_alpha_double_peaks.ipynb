{
 "cells": [
  {
   "cell_type": "code",
   "execution_count": 5,
   "id": "d23741c0",
   "metadata": {},
   "outputs": [],
   "source": [
    "import os\n",
    "import numpy as np\n",
    "import pandas as pd\n",
    "import scipy.io as spio\n",
    "from openpyxl import Workbook"
   ]
  },
  {
   "cell_type": "code",
   "execution_count": 30,
   "id": "63d7c753",
   "metadata": {},
   "outputs": [],
   "source": [
    "# Specify the directory where the MATLAB data files are located\n",
    "data_dir = '/Users/linagladutyte/Documents/LABES/RAMYBE/FOOF/params_all_subjects/'"
   ]
  },
  {
   "cell_type": "code",
   "execution_count": 31,
   "id": "b4d78f92",
   "metadata": {},
   "outputs": [],
   "source": [
    "# Get a list of file names in the directory\n",
    "file_list = os.listdir(data_dir)"
   ]
  },
  {
   "cell_type": "code",
   "execution_count": 34,
   "id": "67e4f721",
   "metadata": {},
   "outputs": [],
   "source": [
    "# Create empty dataset \n",
    "double_peaks_per_subject = pd.DataFrame(columns=['subject', 'double_peak_count'])\n",
    "no_peaks_per_subject = pd.DataFrame(columns=['subject', 'no_peak_count'])\n",
    "\n",
    "# Create separate lists for subject IDs and double peak counts\n",
    "subject_ids = []\n",
    "double_peak_counts = []\n",
    "peak_number_rsq_ch = []\n",
    "no_peak_number_rsq_ch = []\n",
    "no_peak_counts = []\n",
    "\n",
    "# Iterate over each MATLAB data file\n",
    "for i, file_name in enumerate(file_list):\n",
    "    # Load th MATLAB data file\n",
    "    mat_data = spio.loadmat(os.path.join(data_dir, file_name))\n",
    "    peak_params = mat_data['peak_params']  # center frequency(CF); power (PW); band width (BW)\n",
    "    r_squared = mat_data['r_squared']\n",
    "\n",
    "    # Get the channel names and subject name from the file name\n",
    "    channels = peak_params.dtype.names\n",
    "    name = file_name.split('_parameters')[0]\n",
    "    \n",
    "    # Create an empty list to store the number of peaks\n",
    "    double_peaks = []\n",
    "    no_peaks = []\n",
    "\n",
    "    # Get the channel names and subject name from the file name\n",
    "    channels = peak_params.dtype.names\n",
    "    name = file_name.split('_parameters')[0]\n",
    "\n",
    "    # Iterate over each channel in the data file\n",
    "    for ch in range(len(channels)):\n",
    "        rsq = r_squared[0][0][ch][0][0]\n",
    "        peak = peak_params[0][0][ch]\n",
    "\n",
    "        # Extract the CF values for the current channel\n",
    "        cf_values = peak[:, 0]\n",
    "\n",
    "        # Count alpha peaks (the number of CF values within the specified range)\n",
    "        count = np.sum((cf_values >= 8) & (cf_values <= 12))\n",
    "\n",
    "        if count >= 2:\n",
    "            double_peaks.append([name, rsq, count, ch])\n",
    "        if count < 1:\n",
    "            no_peaks.append([name, rsq, count, ch])\n",
    "\n",
    "    # Check if peaks is not empty\n",
    "    if double_peaks:\n",
    "        peak_number_rsq_ch.append(double_peaks)\n",
    "\n",
    "    # Check if no_peaks is not empty before appending\n",
    "    if no_peaks:\n",
    "        no_peak_number_rsq_ch.append(no_peaks)\n",
    "\n",
    "    # Append subject ID and double peak count to respective lists\n",
    "    subject_ids.append(name)\n",
    "    double_peak_counts.append(len(double_peaks))\n",
    "\n",
    "    # Append subject ID and no peak count to respective lists\n",
    "    no_peak_counts.append(len(no_peaks))\n",
    "\n",
    "# Update the double_peaks_per_subject DataFrame with subject IDs and double peak counts\n",
    "double_peaks_per_subject['subject'] = subject_ids\n",
    "double_peaks_per_subject['double_peak_count'] = double_peak_counts\n",
    "\n",
    "# Update the no_peaks_per_subject DataFrame with subject IDs and no peak counts\n",
    "no_peaks_per_subject['subject'] = subject_ids\n",
    "no_peaks_per_subject['no_peak_count'] = no_peak_counts"
   ]
  },
  {
   "cell_type": "code",
   "execution_count": 41,
   "id": "8537c7a4",
   "metadata": {},
   "outputs": [],
   "source": [
    "data_frames = [\n",
    "    ('double_peaks_per_subject.xlsx', double_peaks_per_subject),\n",
    "    ('no_alpha_per_subject', no_peaks_per_subject)\n",
    "]\n",
    "\n",
    "with pd.ExcelWriter('alpha_peaks_count.xlsx') as writer:\n",
    "    for sheet_name, data_frame in data_frames:\n",
    "        data_frame.to_excel(writer, sheet_name=sheet_name, index=False)"
   ]
  },
  {
   "cell_type": "code",
   "execution_count": 131,
   "id": "5943d24f",
   "metadata": {},
   "outputs": [],
   "source": []
  }
 ],
 "metadata": {
  "kernelspec": {
   "display_name": "Python 3 (ipykernel)",
   "language": "python",
   "name": "python3"
  },
  "language_info": {
   "codemirror_mode": {
    "name": "ipython",
    "version": 3
   },
   "file_extension": ".py",
   "mimetype": "text/x-python",
   "name": "python",
   "nbconvert_exporter": "python",
   "pygments_lexer": "ipython3",
   "version": "3.10.11"
  }
 },
 "nbformat": 4,
 "nbformat_minor": 5
}
