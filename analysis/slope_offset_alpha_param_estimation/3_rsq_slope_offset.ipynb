{
 "cells": [
  {
   "cell_type": "markdown",
   "id": "4c2cbf6b-45d4-4c49-8642-4c668761e843",
   "metadata": {},
   "source": [
    "* This script is designed to extract and analyze aperiodic parameters from FOOOF-fitted PSD data.\n",
    "* It includes data validation, where data with poor model fit (r-squared < 0.7) is excluded.\n",
    "* The script processes data stored in MATLAB files, performs analysis, and saves the results in Excel and MATLAB formats."
   ]
  },
  {
   "cell_type": "code",
   "execution_count": null,
   "id": "0edc7ea8",
   "metadata": {},
   "outputs": [],
   "source": [
    "# Importing Necessary Libraries\n",
    "import os\n",
    "import numpy as np\n",
    "import pandas as pd\n",
    "import scipy.io as spio\n",
    "from openpyxl import Workbook"
   ]
  },
  {
   "cell_type": "markdown",
   "id": "e7f3b07b-0e7d-4b10-984b-096cdf49ca90",
   "metadata": {},
   "source": [
    "## Loading the FOOOF-fitted PSD data"
   ]
  },
  {
   "cell_type": "code",
   "execution_count": null,
   "id": "cd536270",
   "metadata": {
    "scrolled": true
   },
   "outputs": [],
   "source": [
    "# Specify the directory where the foof parameter MATLAB data files are located\n",
    "data_dir = ''\n",
    "file_list = [file.name for file in os.scandir(data_dir) if file.is_file()]"
   ]
  },
  {
   "cell_type": "markdown",
   "id": "caa2a264-8180-44d0-bac7-30de33813ab8",
   "metadata": {},
   "source": [
    "## Identifying Low R-Squared Values\n",
    "In this section the script was written to:\n",
    "* Extract subjects and channels where the model fit is below the threshold (r-squared < 0.7).\n",
    "* Store details of these low r-squared values for inspection.\n",
    "* Read channel information from a CSV file and merge with the low r-squared data.\n",
    "* Calculate the number of low r-squared channels per subject.\n",
    "* Save the data into an Excel file with separate sheets:\n",
    "    * For all IDs and channels with r-squared lower than 0.7\n",
    "    * Number of channels with low r-squared per subject"
   ]
  },
  {
   "cell_type": "code",
   "execution_count": null,
   "id": "bef655f6",
   "metadata": {},
   "outputs": [],
   "source": [
    "# Initialize an empty list for low r-squared values\n",
    "low_rsq = []\n",
    "\n",
    "# Define the threshold r-squared values\n",
    "rsq_threshold = 0.7\n",
    "\n",
    "# Iterate over each MATLAB data file\n",
    "for file_name in file_list:\n",
    "    # Load the MATLAB data file\n",
    "    mat_data = spio.loadmat(os.path.join(data_dir, file_name))\n",
    "    ap_params = mat_data['ap_params']  # Aperiodic Parameters: offset, exponent\n",
    "    r_squared = mat_data['r_squared']\n",
    "\n",
    "    # Get the channel names and subject name from the file name\n",
    "    channel_names = ap_params.dtype.names\n",
    "    subject_name = file_name.split('_parameters')[0]\n",
    "\n",
    "    # Iterate over each channel\n",
    "    for ch in range(len(channel_names)):\n",
    "        rsq = r_squared[0][0][ch][0][0]\n",
    "        if rsq < rsq_threshold:\n",
    "            # Add details to the low_rsq list\n",
    "            low_rsq.append([subject_name, rsq, ch+1])\n",
    "\n",
    "# Convert the list to a DataFrame\n",
    "low_rsq_df = pd.DataFrame(low_rsq, columns=['Subject_ID', 'R_Squared', 'Channel_Number'])\n",
    "\n",
    "# Read channel information and merge with low r-squared data\n",
    "channels = pd.read_csv('')  # Update the path accordingly\n",
    "channels['Channel_Number'] = range(1, 63)  # Assuming 62 channels\n",
    "channels.head()\n",
    "\n",
    "# Merging the data\n",
    "low_rsq_df = low_rsq_df.merge(channels, on='Channel_Number', how='left')\n",
    "low_rsq_df.head()"
   ]
  },
  {
   "cell_type": "code",
   "execution_count": null,
   "id": "197b4b85-bcf9-4f30-8fa3-3057f2626b92",
   "metadata": {},
   "outputs": [],
   "source": [
    "# Calculating the low r-squared values per person\n",
    "low_rsq_subjects = low_rsq_df['Subject_ID'].value_counts().reset_index()\n",
    "low_rsq_subjects.columns = ['Subject_ID', 'Low_Rsq_Channel_Count']\n",
    "low_rsq_subjects.head()"
   ]
  },
  {
   "cell_type": "code",
   "execution_count": null,
   "id": "02772d47",
   "metadata": {
    "scrolled": true
   },
   "outputs": [],
   "source": [
    "# Define data frames to be saved\n",
    "data_frames = {\n",
    "    'Low_Rsq_Details': low_rsq_df,\n",
    "    'Low_Rsq_Count_Per_Subject': low_rsq_subjects,\n",
    "    'Channel_Details': channels,\n",
    "}\n",
    "\n",
    "# Save to Excel\n",
    "excel_file_name = 'low_rsq.xlsx'\n",
    "with pd.ExcelWriter(excel_file_name) as writer:\n",
    "    for sheet_name, data_frame in data_frames.items():\n",
    "        data_frame.to_excel(writer, sheet_name=sheet_name, index=False)"
   ]
  },
  {
   "cell_type": "markdown",
   "id": "e261e214-e1c1-4e9b-a5f0-832d16533590",
   "metadata": {},
   "source": [
    "## Extracting and Slope and Offset Parameters (Each Subject)\n",
    "This part of the script aims to:\n",
    "* Calculate median and mean slope and offset values for each subject.\n",
    "* Exclude specific subjects and channels as defined.\n",
    "* Save the results in Excel and MATLAB formats."
   ]
  },
  {
   "cell_type": "code",
   "execution_count": null,
   "id": "a904bfe0",
   "metadata": {},
   "outputs": [],
   "source": [
    "# Specify the subjects and channels to exclude\n",
    "excluded_channels = [{'name': '', 'channel': ''}]"
   ]
  },
  {
   "cell_type": "markdown",
   "id": "1e309bac-6012-42e6-8557-45dc9f7c593c",
   "metadata": {},
   "source": [
    "**For Excel format**"
   ]
  },
  {
   "cell_type": "code",
   "execution_count": null,
   "id": "3034f7bc-ef5c-4e0e-a47a-fb93e418bc85",
   "metadata": {},
   "outputs": [],
   "source": [
    "# Create empty lists to store values\n",
    "slope = []\n",
    "offset = []\n",
    "\n",
    "# Iterate over each channel in the data file\n",
    "for ch, channel in enumerate(channels):\n",
    "    rsq = r_squared[0][0][ch][0][0]\n",
    "    off_n_slope = ap_params[0][0][ch][0]\n",
    "\n",
    "    # Check if the channel should be excluded for the specific subject\n",
    "    if (any(excluded['name'] == name and excluded['channel'] == channel for excluded in excluded_channels) or rsq < rsq_threshold):\n",
    "        slope_value = np.nan\n",
    "        offset_value = np.nan\n",
    "    else:\n",
    "        slope_value = off_n_slope[1]\n",
    "        offset_value = off_n_slope[0]\n",
    "\n",
    "        # Append values to the list\n",
    "    offset.append(offset_value)\n",
    "    slope.append(slope_value)\n",
    "\n",
    " # Calculate the median slope value\n",
    "median_slope = np.nanmedian(slope)\n",
    "# Calculate the mean slope value\n",
    "mean_slope = np.nanmean(slope)\n",
    "# Calculate the median offset value\n",
    "median_offset = np.nanmedian(offset)\n",
    "# Calculate the mean offset value\n",
    "mean_offset = np.nanmean(offset)"
   ]
  },
  {
   "cell_type": "markdown",
   "id": "55cd789b-a0c9-4d63-84c8-a04bada58d82",
   "metadata": {},
   "source": [
    "Function to split 'ID' column into 'group' and 'id'"
   ]
  },
  {
   "cell_type": "code",
   "execution_count": null,
   "id": "39cba996-efe1-4bf4-a351-b662a97ee918",
   "metadata": {},
   "outputs": [],
   "source": [
    "def split_id_column(df, id_column):\n",
    "    \n",
    "    if id_column not in df.columns:\n",
    "        raise ValueError(f\"The specified id_column '{id_column}' does not exist in the DataFrame.\")\n",
    "    df[['group', 'id']] = df[id_column].str.split('_', expand=True)   \n",
    "    df = df.drop(id_column, axis=1)\n",
    "    \n",
    "    return df"
   ]
  },
  {
   "cell_type": "code",
   "execution_count": null,
   "id": "999727b8-3285-4a91-bd0b-7eb86d0dc36d",
   "metadata": {},
   "outputs": [],
   "source": [
    "median_mean_slope = split_id_column(median_mean_slope, id_column='ID')\n",
    "median_mean_offset = split_id_column(median_mean_offset, id_column='ID')\n",
    "median_mean_slope.head()"
   ]
  },
  {
   "cell_type": "code",
   "execution_count": null,
   "id": "6ef7acb5-2589-44c0-80f0-bf3e0359daa7",
   "metadata": {},
   "outputs": [],
   "source": [
    "# Save median and mean slope and offset to excel \n",
    "with pd.ExcelWriter('slope_offset_median_mean.xlsx') as writer:\n",
    "    median_mean_slope.to_excel(writer, sheet_name='median_mean_slope', index=False)\n",
    "    median_mean_offset.to_excel(writer, sheet_name='median_mean_offset', index=False)"
   ]
  },
  {
   "cell_type": "markdown",
   "id": "36161c21-a9bd-4d6c-9f5c-ef254d7044ad",
   "metadata": {},
   "source": [
    "**For Matlab matrix format**"
   ]
  },
  {
   "cell_type": "code",
   "execution_count": null,
   "id": "7a91cff9-4479-4fb3-b833-dcc017e62a71",
   "metadata": {},
   "outputs": [],
   "source": [
    "# DFs to store values\n",
    "median_mean_slope = pd.DataFrame(columns=['ID', 'median_slope', 'mean_slope'])\n",
    "median_mean_offset = pd.DataFrame(columns=['ID', 'median_offset', 'mean_offset'])\n",
    "\n",
    "# Empty matrix to store the slope and offset values\n",
    "slopes_matrix = np.empty((len(file_list), len(channels)))\n",
    "offsets_matrix = np.empty((len(file_list), len(channels)))\n",
    "\n",
    "# Iterate over each MATLAB data file\n",
    "for i, file_name in enumerate(file_list):\n",
    "    # Load the MATLAB data file\n",
    "    mat_data = spio.loadmat(os.path.join(data_dir, file_name))\n",
    "    ap_params = mat_data['ap_params']\n",
    "    r_squared = mat_data['r_squared']\n",
    "\n",
    "    # Get the channel names and subject name from the file name\n",
    "    channels = ap_params.dtype.names\n",
    "    name = file_name.split('_parameters')[0]\n",
    "\n",
    "    # Create empty lists to store values\n",
    "    slope = []\n",
    "    offset = []\n",
    "\n",
    "    # Iterate over each channel in the data file\n",
    "    for ch, channel in enumerate(channels):\n",
    "        rsq = r_squared[0][0][ch][0][0]\n",
    "        off_n_slope = ap_params[0][0][ch][0]\n",
    "\n",
    "        # Check if the channel should be excluded for the specific subject\n",
    "        if (any(excluded['name'] == name and excluded['channel'] == channel for excluded in excluded_channels) or rsq < rsq_threshold):\n",
    "            slope_value = np.nan\n",
    "            offset_value = np.nan\n",
    "        else:\n",
    "            slope_value = off_n_slope[1]\n",
    "            offset_value = off_n_slope[0]\n",
    "\n",
    "        # Append values to the list\n",
    "        offset.append(offset_value)\n",
    "        slope.append(slope_value)\n",
    "        slopes_matrix[i, ch] = slope_value\n",
    "        offsets_matrix[i, ch] = offset_value\n",
    "\n",
    "    # Calculate the median slope value\n",
    "    median_slope = np.nanmedian(slope)\n",
    "    # Calculate the mean slope value\n",
    "    mean_slope = np.nanmean(slope)\n",
    "    # Calculate the median offset value\n",
    "    median_offset = np.nanmedian(offset)\n",
    "    # Calculate the mean offset value\n",
    "    mean_offset = np.nanmean(offset)\n",
    "\n",
    "    # Update the median_mean_slope DataFrame with the subject's ID and slope values\n",
    "    median_mean_slope.at[i, 'ID'] = name\n",
    "    median_mean_slope.at[i, 'median_slope'] = median_slope\n",
    "    median_mean_slope.at[i, 'mean_slope'] = mean_slope\n",
    "    \n",
    "    # Update the median_mean_offset DataFrame with the subject's ID and offset values\n",
    "    median_mean_offset.at[i, 'ID'] = name\n",
    "    median_mean_offset.at[i, 'median_offset'] = median_offset\n",
    "    median_mean_offset.at[i, 'mean_offset'] = mean_offset"
   ]
  },
  {
   "cell_type": "code",
   "execution_count": null,
   "id": "726144a4-0dfe-4c28-b8a2-ab5f8b674388",
   "metadata": {},
   "outputs": [],
   "source": [
    "# Save slope and offset matrixes to matlab structure\n",
    "\n",
    "data = {'slopes_matrix': slopes_matrix,\n",
    "        'offsets_matrix': offsets_matrix}\n",
    "\n",
    "spio.savemat('slope_off_matrix.mat', data)"
   ]
  },
  {
   "cell_type": "markdown",
   "id": "f2b2dc1c-f299-425c-80b2-d14be7146ef5",
   "metadata": {},
   "source": [
    "## Median and Mean Values by Group and Channel\n",
    "* The following section creates DataFrames for each subject and channel, categorizing them into groups based on subject ID.\n",
    "* It calculates median values for slopes and offsets for each group/group and channel.\n",
    "* The results are saved in an Excel file with multiple sheets."
   ]
  },
  {
   "cell_type": "code",
   "execution_count": null,
   "id": "25b72b8e-e6b1-45c5-9acc-c159aaa61654",
   "metadata": {},
   "outputs": [],
   "source": [
    "# Create the DataFrame with slope values and modify the index values\n",
    "slope_ch_id = pd.DataFrame(slopes_matrix, columns=channels, index=[int(''.join(filter(str.isdigit, name.split('_parameters')[0]))) for name in file_list])\n",
    "\n",
    "# Create the DataFrame with offset values and modify the index values\n",
    "offset_ch_id = pd.DataFrame(offsets_matrix, columns=channels, index=[int(''.join(filter(str.isdigit, name.split('_parameters')[0]))) for name in file_list])"
   ]
  },
  {
   "cell_type": "code",
   "execution_count": null,
   "id": "cbc7fb52",
   "metadata": {},
   "outputs": [],
   "source": [
    "# Reset the index and rename the column\n",
    "slope_ch_id = slope_ch_id.reset_index().rename(columns={'index': 'id'})\n",
    "\n",
    "offset_ch_id = offset_ch_id.reset_index().rename(columns={'index': 'id'})\n",
    "\n",
    "# Create a mapping dictionary for the 'group' column\n",
    "group_mapping = {\n",
    "    (0, 100): 'OC',\n",
    "    (100, 200): 'IUD',\n",
    "    (200, 300): 'NCF',\n",
    "    (300, 400): 'NCL',\n",
    "    (400, float('inf')): 'M',\n",
    "}\n",
    "\n",
    "# Add the 'group' column based on ID values for slope_ch_id DataFrame\n",
    "slope_ch_id.insert(1, 'group', pd.cut(slope_ch_id['id'], bins=[0, 100, 200, 300, 400, float('inf')], labels=['OC', 'IUD', 'NCF', 'NCL', 'M']))\n",
    "\n",
    "# Add the 'group' column based on ID values for offset_ch_id DataFrame\n",
    "offset_ch_id.insert(1, 'group', pd.cut(offset_ch_id['id'], bins=[0, 100, 200, 300, 400, float('inf')], labels=['OC', 'IUD', 'NCF', 'NCL', 'M']))"
   ]
  },
  {
   "cell_type": "markdown",
   "id": "addf8435-050e-4dda-bbaf-a349ce5de967",
   "metadata": {},
   "source": [
    "Median slope and offset values for each group and channel"
   ]
  },
  {
   "cell_type": "code",
   "execution_count": null,
   "id": "13bd7fbf-978a-45b6-968a-e65040274424",
   "metadata": {
    "scrolled": true
   },
   "outputs": [],
   "source": [
    "# Create DataFrames with slope and offset values, indexed by subject ID\n",
    "slope_df = pd.DataFrame(slopes_matrix, columns=channels, index=[int(''.join(filter(str.isdigit, name.split('_parameters')[0]))) for name in file_list])\n",
    "offset_df = pd.DataFrame(offsets_matrix, columns=channels, index=[int(''.join(filter(str.isdigit, name.split('_parameters')[0]))) for name in file_list])\n",
    "\n",
    "# Reset the index and rename the column\n",
    "slope_df = slope_df.reset_index().rename(columns={'index': 'ID'})\n",
    "offset_df = offset_df.reset_index().rename(columns={'index': 'ID'})\n",
    "\n",
    "# Define groups based on subject IDs\n",
    "group_labels = ['OC', 'IUD', 'NCF', 'NCL', 'M']\n",
    "group_bins = [0, 100, 200, 300, 400, float('inf')]\n",
    "\n",
    "# Assign groups to DataFrames\n",
    "slope_df.insert(1, 'Group', pd.cut(slope_df['ID'], bins=group_bins, labels=group_labels))\n",
    "offset_df.insert(1, 'Group', pd.cut(offset_df['ID'], bins=group_bins, labels=group_labels))\n",
    "\n",
    "# Calculate median values for each subject and group\n",
    "median_slope = slope_df.groupby('Group').median()\n",
    "median_offset = offset_df.groupby('Group').median()"
   ]
  },
  {
   "cell_type": "code",
   "execution_count": null,
   "id": "491e4f5d-7c00-4187-ade9-0b12f09accd0",
   "metadata": {},
   "outputs": [],
   "source": [
    "# Save to Excel\n",
    "excel_file = 'Slope_offset.xlsx'\n",
    "with pd.ExcelWriter(excel_file) as writer:\n",
    "    slope_df.to_excel(writer, sheet_name='Slope_Subject_Channel', index=False)\n",
    "    offset_df.to_excel(writer, sheet_name='Offset_Subject_Channel', index=False)\n",
    "    median_slope.to_excel(writer, sheet_name='Median_Slope_by_Group_Channel', index=False)\n",
    "    median_offset.to_excel(writer, sheet_name='Median_Offset_by_Group_Channel', index=False)"
   ]
  }
 ],
 "metadata": {
  "kernelspec": {
   "display_name": "Python 3 (ipykernel)",
   "language": "python",
   "name": "python3"
  },
  "language_info": {
   "codemirror_mode": {
    "name": "ipython",
    "version": 3
   },
   "file_extension": ".py",
   "mimetype": "text/x-python",
   "name": "python",
   "nbconvert_exporter": "python",
   "pygments_lexer": "ipython3",
   "version": "3.10.13"
  }
 },
 "nbformat": 4,
 "nbformat_minor": 5
}
