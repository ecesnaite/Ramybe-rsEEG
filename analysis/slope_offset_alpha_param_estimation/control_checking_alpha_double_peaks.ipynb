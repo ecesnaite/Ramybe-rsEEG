{
 "cells": [
  {
   "cell_type": "markdown",
   "id": "bd0a0ffa-4d88-4a4d-86c2-9144250552fd",
   "metadata": {},
   "source": [
    "This script was written to check for double and non-existent alpha peaks in the FOOOF-fitted PSD data. \n",
    "* The alpha band was set from 8 Hz to 12 Hz\n",
    "* The code calculates the number of channels in which there were double alpha peaks / no peaks for each subject's data "
   ]
  },
  {
   "cell_type": "code",
   "execution_count": null,
   "id": "d23741c0",
   "metadata": {},
   "outputs": [],
   "source": [
    "# Importing Necessary Libraries\n",
    "import os\n",
    "import numpy as np\n",
    "import pandas as pd\n",
    "import scipy.io as spio\n",
    "from openpyxl import Workbook"
   ]
  },
  {
   "cell_type": "code",
   "execution_count": null,
   "id": "63d7c753",
   "metadata": {},
   "outputs": [],
   "source": [
    "# Specify the directory where the FOOOF-fitted data files are located\n",
    "data_dir = ''"
   ]
  },
  {
   "cell_type": "code",
   "execution_count": null,
   "id": "b4d78f92",
   "metadata": {},
   "outputs": [],
   "source": [
    "# Get a list of file names in the directory\n",
    "file_list = os.listdir(data_dir)"
   ]
  },
  {
   "cell_type": "code",
   "execution_count": null,
   "id": "67e4f721",
   "metadata": {},
   "outputs": [],
   "source": [
    "# Create an empty dataset \n",
    "double_peaks_per_subject = pd.DataFrame(columns=['subject', 'double_peak_count'])\n",
    "no_peaks_per_subject = pd.DataFrame(columns=['subject', 'no_peak_count'])\n",
    "\n",
    "# Create separate lists for subject IDs and double peak counts\n",
    "subject_ids = []\n",
    "double_peak_counts = []\n",
    "peak_number_rsq_ch = []\n",
    "no_peak_number_rsq_ch = []\n",
    "no_peak_counts = []\n",
    "\n",
    "# Iterate over each MATLAB data file\n",
    "for i, file_name in enumerate(file_list):\n",
    "    # Load the MATLAB data file\n",
    "    mat_data = spio.loadmat(os.path.join(data_dir, file_name))\n",
    "    peak_params = mat_data['peak_params']  # center frequency(CF); power (PW); bandwidth (BW)\n",
    "    r_squared = mat_data['r_squared']\n",
    "    \n",
    "    # Create an empty list to store the number of peaks\n",
    "    double_peaks = []\n",
    "    no_peaks = []\n",
    "\n",
    "    # Get the channel names and subject ID from the file name\n",
    "    channels = peak_params.dtype.names\n",
    "    name = file_name.split('_parameters')[0]\n",
    "\n",
    "    # Iterate over each channel in the data file\n",
    "    for ch in range(len(channels)):\n",
    "        rsq = r_squared[0][0][ch][0][0]\n",
    "        peak = peak_params[0][0][ch]\n",
    "\n",
    "        # Extract the CF values for the current channel\n",
    "        cf_values = peak[:, 0]\n",
    "\n",
    "        # Count alpha peaks (the number of CF values within the specified range)\n",
    "        count = np.sum((cf_values >= 8) & (cf_values <= 12))\n",
    "\n",
    "        if count >= 2:\n",
    "            double_peaks.append([name, rsq, count, ch])\n",
    "        if count < 1:\n",
    "            no_peaks.append([name, rsq, count, ch])\n",
    "\n",
    "    # Check if there are double peaks before appending\n",
    "    if double_peaks:\n",
    "        peak_number_rsq_ch.append(double_peaks)\n",
    "\n",
    "    # Check if no_peaks is not empty before appending\n",
    "    if no_peaks:\n",
    "        no_peak_number_rsq_ch.append(no_peaks)\n",
    "\n",
    "    # Append subject ID and double peak count to respective lists\n",
    "    subject_ids.append(name)\n",
    "    double_peak_counts.append(len(double_peaks))\n",
    "\n",
    "    # Append subject ID and no peak count to respective lists\n",
    "    no_peak_counts.append(len(no_peaks))\n",
    "\n",
    "# Update the double_peaks_per_subject DataFrame with subject IDs and double peak counts\n",
    "double_peaks_per_subject['subject'] = subject_ids\n",
    "double_peaks_per_subject['double_peak_count'] = double_peak_counts\n",
    "\n",
    "# Update the no_peaks_per_subject DataFrame with subject IDs and no peak counts\n",
    "no_peaks_per_subject['subject'] = subject_ids\n",
    "no_peaks_per_subject['no_peak_count'] = no_peak_counts"
   ]
  },
  {
   "cell_type": "code",
   "execution_count": null,
   "id": "8537c7a4",
   "metadata": {},
   "outputs": [],
   "source": [
    "# Save the data to the Excel\n",
    "data_frames = [\n",
    "    ('double_peaks_per_subject.xlsx', double_peaks_per_subject),\n",
    "    ('no_alpha_per_subject', no_peaks_per_subject)\n",
    "]\n",
    "\n",
    "with pd.ExcelWriter('alpha_peaks_count.xlsx') as writer:\n",
    "    for sheet_name, data_frame in data_frames:\n",
    "        data_frame.to_excel(writer, sheet_name=sheet_name, index=False)"
   ]
  }
 ],
 "metadata": {
  "kernelspec": {
   "display_name": "Python 3 (ipykernel)",
   "language": "python",
   "name": "python3"
  },
  "language_info": {
   "codemirror_mode": {
    "name": "ipython",
    "version": 3
   },
   "file_extension": ".py",
   "mimetype": "text/x-python",
   "name": "python",
   "nbconvert_exporter": "python",
   "pygments_lexer": "ipython3",
   "version": "3.10.13"
  }
 },
 "nbformat": 4,
 "nbformat_minor": 5
}
