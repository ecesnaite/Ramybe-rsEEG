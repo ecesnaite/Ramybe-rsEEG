{
 "cells": [
  {
   "cell_type": "markdown",
   "id": "2a4f6339-8f70-4b39-a58d-59a122b8db05",
   "metadata": {},
   "source": [
    "##  Extracting rsq values for each channel and subject + mean values for each subject with/without knee parameter"
   ]
  },
  {
   "cell_type": "code",
   "execution_count": null,
   "id": "0edc7ea8",
   "metadata": {},
   "outputs": [],
   "source": [
    "import os\n",
    "import numpy as np\n",
    "import pandas as pd\n",
    "import scipy.io as spio\n",
    "from openpyxl import Workbook"
   ]
  },
  {
   "cell_type": "code",
   "execution_count": null,
   "id": "cd536270",
   "metadata": {},
   "outputs": [],
   "source": [
    "# Specify the directory where the MATLAB data files are located \n",
    "data_dir = ''\n",
    "file_list = [file.name for file in os.scandir(data_dir) if file.is_file()]"
   ]
  },
  {
   "cell_type": "code",
   "execution_count": null,
   "id": "426d039a",
   "metadata": {},
   "outputs": [],
   "source": [
    "# empty lists to store low_rsq and rsq values\n",
    "low_rsq = []\n",
    "all_rsq = [] "
   ]
  },
  {
   "cell_type": "code",
   "execution_count": null,
   "id": "19a43a37-0a7a-4a84-ae1a-e1473fec7bff",
   "metadata": {},
   "outputs": [],
   "source": [
    "# file_list.remove('.DS_Store')"
   ]
  },
  {
   "cell_type": "markdown",
   "id": "7ee08188-4784-4f18-8d17-1fedf574d152",
   "metadata": {},
   "source": [
    "* Extracting subjects and channels with low rsq\n",
    "* THRESHOLD: 0.7 (determined by visual inspection)"
   ]
  },
  {
   "cell_type": "markdown",
   "id": "acc6a273-9ea1-42a8-8985-615bbf488af5",
   "metadata": {},
   "source": [
    "**EXTRACTING RSQ & LOW RSQ VALUES**"
   ]
  },
  {
   "cell_type": "code",
   "execution_count": null,
   "id": "bef655f6",
   "metadata": {},
   "outputs": [],
   "source": [
    "# Iterate over each MATLAB data file\n",
    "for file_name in file_list:\n",
    "    # Load the MATLAB data file\n",
    "    mat_data = spio.loadmat(os.path.join(data_dir, file_name))\n",
    "    ap_params = mat_data['ap_params'] # Aperiodic Parameters: offset, exponent\n",
    "    r_squared = mat_data['r_squared']\n",
    "\n",
    "    # Get the channel names and subject name from the file name\n",
    "    channel = ap_params.dtype.names\n",
    "    name = file_name.split('_parameters')[0]\n",
    "\n",
    "       # Iterate over each channel in the data file\n",
    "    for ch in range(len(channel)):\n",
    "        rsq = r_squared[0][0][ch][0][0]\n",
    "\n",
    "        all_rsq.append([name, rsq, ch+1]) \n",
    "       \n",
    "        # Check if rsq is below the threshold\n",
    "        if rsq < 0.7:\n",
    "            # Add the low_rsq information to the list\n",
    "            low_rsq.append([name, rsq, ch+1])"
   ]
  },
  {
   "cell_type": "code",
   "execution_count": null,
   "id": "f398c984",
   "metadata": {},
   "outputs": [],
   "source": [
    "# Create a pandas DataFrame to store the results\n",
    "low_rsq_table = pd.DataFrame(low_rsq, columns = ['id', 'rsq', 'channel_number'])"
   ]
  },
  {
   "cell_type": "code",
   "execution_count": null,
   "id": "826ec3a3",
   "metadata": {},
   "outputs": [],
   "source": [
    "# low_rsq_table.head()"
   ]
  },
  {
   "cell_type": "code",
   "execution_count": null,
   "id": "9d6772ec",
   "metadata": {},
   "outputs": [],
   "source": [
    "# Read channels from the CSV file\n",
    "channels = pd.read_csv('')\n",
    "# add channel numbers\n",
    "channels['channel_number'] = range(1, 63)\n",
    "# channels.head()"
   ]
  },
  {
   "cell_type": "code",
   "execution_count": null,
   "id": "a454a60f",
   "metadata": {},
   "outputs": [],
   "source": [
    "low_rsq_table = low_rsq_table.merge(channels, how='left', on='channel_number')"
   ]
  },
  {
   "cell_type": "code",
   "execution_count": null,
   "id": "f43de5e0",
   "metadata": {
    "scrolled": true
   },
   "outputs": [],
   "source": [
    "# low_rsq_table.head()"
   ]
  },
  {
   "cell_type": "code",
   "execution_count": null,
   "id": "95e0267c",
   "metadata": {},
   "outputs": [],
   "source": [
    "# Calculate the counts of low_rsq per person\n",
    "people_low_rsq = low_rsq_table['id'].value_counts().reset_index()\n",
    "people_low_rsq.columns = ['people_low_rsq', 'chan_per_person']"
   ]
  },
  {
   "cell_type": "code",
   "execution_count": null,
   "id": "6ef9d5df",
   "metadata": {
    "scrolled": true
   },
   "outputs": [],
   "source": [
    "people_low_rsq"
   ]
  },
  {
   "cell_type": "markdown",
   "id": "1f8cc9af-e0f9-458f-a841-98ddb4a74255",
   "metadata": {},
   "source": [
    "### **LOW RSQ**:\n",
    "\n",
    "**Witout knee**:\n",
    "* V619: 7 channels with low rsq\n",
    "* V619: additional channel to remove: 30 (O2)\n",
    "\n",
    "**With knee**:\n",
    "* NCF219: 7 chans with low rsq\n",
    "* V619: 6 chans with low rsq"
   ]
  },
  {
   "cell_type": "code",
   "execution_count": null,
   "id": "0228649f-8ee4-4c21-bac3-d126a0702777",
   "metadata": {},
   "outputs": [],
   "source": [
    "all_rsq_df = pd.DataFrame(all_rsq, columns = ['id', 'rsq', 'channel_number'])\n",
    "all_rsq_df.head()"
   ]
  },
  {
   "cell_type": "markdown",
   "id": "95e62236-1cc0-47e9-8901-f244c781e7f6",
   "metadata": {},
   "source": [
    "**To save low rsq if needed**"
   ]
  },
  {
   "cell_type": "code",
   "execution_count": null,
   "id": "02772d47",
   "metadata": {
    "scrolled": true
   },
   "outputs": [],
   "source": [
    "# Save the data to an Excel file: one sheet for all IDs and channels with r2<0.7, another with number of channels per person\n",
    "data_frames = [\n",
    "    ('low_rsq_table', low_rsq_table),\n",
    "    ('people_low_rsq', people_low_rsq),\n",
    "    ('channels', channels),\n",
    "]\n",
    "with pd.ExcelWriter('low_rsq_with_knee_2023_12_18.xlsx') as writer:\n",
    "    for sheet_name, data_frame in data_frames:\n",
    "        data_frame.to_excel(writer, sheet_name=sheet_name, index=False)"
   ]
  },
  {
   "cell_type": "markdown",
   "id": "21f9e4e7-9a4a-4697-bff2-b0346f25b3cb",
   "metadata": {},
   "source": [
    "# EXTRACTING PARAMETERS\n",
    "Other parameters are left just in case"
   ]
  },
  {
   "cell_type": "markdown",
   "id": "4b538427-8c61-4488-bd6d-1b2c5fb3d27b",
   "metadata": {},
   "source": [
    "### **MEAN RSQ + SD FOR EACH SUBJECT**"
   ]
  },
  {
   "cell_type": "code",
   "execution_count": null,
   "id": "a904bfe0",
   "metadata": {},
   "outputs": [],
   "source": [
    "# Create an empty DataFrame to store the mean slope values\n",
    "median_mean_slope = pd.DataFrame(columns=['ID', 'median_slope', 'mean_slope'])\n",
    "median_mean_offset = pd.DataFrame(columns=['ID', 'median_offset', 'mean_offset'])\n",
    "rsq_mean_sd = pd.DataFrame(columns=['ID', 'mean_rsq', 'std_rsq'])\n",
    "\n",
    "# Specify the subjects and channels to exclude\n",
    "excluded_channels = [{'name': 'V_619', 'channel': 'channel_30'}]\n",
    "\n",
    "# Initialize an empty matrix to store the slope and offset values\n",
    "slopes_matrix = np.empty((len(file_list), len(channels)))\n",
    "offsets_matrix = np.empty((len(file_list), len(channels)))\n",
    "rsq_matrix = np.empty((len(file_list), len(channels)))\n",
    "\n",
    "# Iterate over each MATLAB data file\n",
    "for i, file_name in enumerate(file_list):\n",
    "    # Load the MATLAB data file\n",
    "    mat_data = spio.loadmat(os.path.join(data_dir, file_name))\n",
    "    ap_params = mat_data['ap_params']\n",
    "    r_squared = mat_data['r_squared']\n",
    "\n",
    "    # Get the channel names and subject name from the file name\n",
    "    channels = ap_params.dtype.names\n",
    "    name = file_name.split('_parameters')[0]\n",
    "\n",
    "    # Initialize lists for collecting values\n",
    "    slope_values = []\n",
    "    offset_values = []\n",
    "    rsq_values = []\n",
    "\n",
    "    # Iterate over each channel in the data file\n",
    "    for ch, channel in enumerate(channels):\n",
    "        rsq_value = r_squared[0][0][ch][0][0]\n",
    "        off_n_slope = ap_params[0][0][ch][0]\n",
    "\n",
    "        # Check if the channel should be excluded for the specific subject\n",
    "        if any(excluded['name'] == name and excluded['channel'] == channel for excluded in excluded_channels):\n",
    "            slope_value = np.nan\n",
    "            offset_value = np.nan\n",
    "            rsq_value = np.nan\n",
    "        else:\n",
    "            slope_value = off_n_slope[1]\n",
    "            offset_value = off_n_slope[0]\n",
    "\n",
    "        # Append values to respective lists\n",
    "        offset_values.append(offset_value)\n",
    "        slope_values.append(slope_value)\n",
    "        rsq_values.append(rsq_value)\n",
    "\n",
    "        # Store values in matrices\n",
    "        slopes_matrix[i, ch] = slope_value\n",
    "        offsets_matrix[i, ch] = offset_value\n",
    "        rsq_matrix[i, ch] = rsq_value\n",
    "\n",
    "    # Calculate statistics for slope, offset, and rsq\n",
    "    median_slope = np.nanmedian(slope_values)\n",
    "    mean_slope = np.nanmean(slope_values)\n",
    "    median_offset = np.nanmedian(offset_values)\n",
    "    mean_offset = np.nanmean(offset_values)\n",
    "    mean_rsq = np.nanmean(rsq_values)\n",
    "    std_rsq = np.nanstd(rsq_values)\n",
    "\n",
    "    # Update DataFrames with calculated values\n",
    "    median_mean_slope.loc[i] = [name, median_slope, mean_slope]\n",
    "    median_mean_offset.loc[i] = [name, median_offset, mean_offset]\n",
    "    rsq_mean_sd.loc[i] = [name, mean_rsq, std_rsq]"
   ]
  },
  {
   "cell_type": "code",
   "execution_count": null,
   "id": "6f964ed7-ec56-49d9-9991-eb2d2cd3cf9a",
   "metadata": {},
   "outputs": [],
   "source": [
    "# Save rsq vales to excel\n",
    "with pd.ExcelWriter('rsq_mean_sd_for_each_subj_WITH_KNEE.xlsx') as writer:\n",
    "    rsq_mean_sd.to_excel(writer, sheet_name='WITH_KNEE', index=False)"
   ]
  },
  {
   "cell_type": "markdown",
   "id": "93800a9a-ba40-4cec-91a7-969b3ee88c2d",
   "metadata": {},
   "source": [
    "### To save other parameters if needed"
   ]
  },
  {
   "cell_type": "code",
   "execution_count": null,
   "id": "712be3e6",
   "metadata": {},
   "outputs": [],
   "source": [
    "# Save median and mean slope and offset to excel \n",
    "with pd.ExcelWriter('slope_off_median_mean.xlsx') as writer:\n",
    "    median_mean_slope.to_excel(writer, sheet_name='median_mean_slope', index=False)\n",
    "    median_mean_offset.to_excel(writer, sheet_name='median_mean_offset', index=False)"
   ]
  },
  {
   "cell_type": "code",
   "execution_count": null,
   "id": "8e67660f",
   "metadata": {},
   "outputs": [],
   "source": [
    "# Save slope and offset matrixes to matlab structure\n",
    "\n",
    "data = {'slopes_matrix': slopes_matrix,\n",
    "        'offsets_matrix': offsets_matrix}\n",
    "\n",
    "spio.savemat('slope_off_matrix.mat', data)"
   ]
  },
  {
   "cell_type": "code",
   "execution_count": null,
   "id": "cbc7fb52",
   "metadata": {},
   "outputs": [],
   "source": [
    "# Create the DataFrame with slope values and modify the index values\n",
    "slope_ch_id = pd.DataFrame(slopes_matrix, columns=channels, index=[int(''.join(filter(str.isdigit, name.split('_parameters')[0]))) for name in file_list])\n",
    "\n",
    "# Create the DataFrame with offset values and modify the index values\n",
    "offset_ch_id = pd.DataFrame(offsets_matrix, columns=channels, index=[int(''.join(filter(str.isdigit, name.split('_parameters')[0]))) for name in file_list])\n"
   ]
  }
 ],
 "metadata": {
  "kernelspec": {
   "display_name": "Python 3 (ipykernel)",
   "language": "python",
   "name": "python3"
  },
  "language_info": {
   "codemirror_mode": {
    "name": "ipython",
    "version": 3
   },
   "file_extension": ".py",
   "mimetype": "text/x-python",
   "name": "python",
   "nbconvert_exporter": "python",
   "pygments_lexer": "ipython3",
   "version": "3.10.13"
  }
 },
 "nbformat": 4,
 "nbformat_minor": 5
}
