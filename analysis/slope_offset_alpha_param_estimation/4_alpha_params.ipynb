{
 "cells": [
  {
   "cell_type": "markdown",
   "id": "f491d0af-9fff-4fbf-a544-2c0b54b08415",
   "metadata": {},
   "source": [
    "* This script was written to extract alpha band parameters (individual alpha peak (IAF) and alpha power) from the .mat data. \n",
    "* The alpha band parameters were calculated using a custom Matlab script:\n",
    "    * 'adapted_el_bandpower_on_detrended_psd_SSRI.m' to calculate parameters on detrended PSD"
   ]
  },
  {
   "cell_type": "code",
   "execution_count": null,
   "id": "0edc7ea8",
   "metadata": {},
   "outputs": [],
   "source": [
    "import numpy as np\n",
    "import pandas as pd\n",
    "import scipy.io as spio\n",
    "from openpyxl import Workbook"
   ]
  },
  {
   "cell_type": "markdown",
   "id": "e715e1ad-bee6-44ad-a5fc-9d7576148b9a",
   "metadata": {},
   "source": [
    "## Loading and Preparing the Data"
   ]
  },
  {
   "cell_type": "code",
   "execution_count": null,
   "id": "b4317da5",
   "metadata": {},
   "outputs": [],
   "source": [
    "# load Matlab matrixes, extract parameters\n",
    "# update the paths to the files accordingly\n",
    "iaf_mat = spio.loadmat('')['iaf']\n",
    "power_mat = spio.loadmat('')['broadpow']\n",
    "subj_id_mat = spio.loadmat('')['ID_all'][0]\n",
    "channels_mat = spio.loadmat('')['chan_label'][0]"
   ]
  },
  {
   "cell_type": "markdown",
   "id": "ba67df5a-7d64-49cc-b0d4-8ae201d702dd",
   "metadata": {},
   "source": [
    "**Creating lists to store IDs and channel names**"
   ]
  },
  {
   "cell_type": "code",
   "execution_count": null,
   "id": "4a7f2d74",
   "metadata": {},
   "outputs": [],
   "source": [
    "names = []\n",
    "for x in range(len(subj_id_mat)):\n",
    "    name = subj_id_mat[x][0]\n",
    "    names.append(name)\n",
    "\n",
    "channels = []\n",
    "for y in range(len(channels_mat)):\n",
    "    channel = channels_mat[y][0]\n",
    "    channels.append(channel)"
   ]
  },
  {
   "cell_type": "markdown",
   "id": "0f8d590f-1c56-4420-99f2-33cbe6b03737",
   "metadata": {},
   "source": [
    "**Converting lists to a numpy arrays and creating dataframes with parameter values with modified index values**"
   ]
  },
  {
   "cell_type": "code",
   "execution_count": null,
   "id": "85c163f2",
   "metadata": {},
   "outputs": [],
   "source": [
    "iaf = np.array(iaf_mat)\n",
    "power = np.array(power_mat)\n",
    "\n",
    "iaf_ch_id = pd.DataFrame(iaf, columns=channels, index=[int(''.join(filter(str.isdigit, name))) for name in names])\n",
    "power_ch_id = pd.DataFrame(power, columns=channels, index=[int(''.join(filter(str.isdigit, name))) for name in names])"
   ]
  },
  {
   "cell_type": "markdown",
   "id": "1048c119-be6e-4b07-9196-5dccebb91172",
   "metadata": {},
   "source": [
    "**Adding the 'group' column based on ID values**"
   ]
  },
  {
   "cell_type": "code",
   "execution_count": null,
   "id": "32ed828d",
   "metadata": {},
   "outputs": [],
   "source": [
    "# Reset the index and rename the column\n",
    "iaf_ch_id = iaf_ch_id.reset_index().rename(columns={'index': 'id'})\n",
    "power_ch_id = power_ch_id.reset_index().rename(columns={'index': 'id'})\n",
    "\n",
    "\n",
    "# Create a mapping dictionary for the 'group' column\n",
    "group_mapping = {\n",
    "    (0, 100): 'OC',\n",
    "    (100, 200): 'IUD',\n",
    "    (200, 300): 'NCF',\n",
    "    (300, 400): 'NCL',\n",
    "    (400, float('inf')): 'M',\n",
    "}\n",
    "\n",
    "# Add the 'group' column \n",
    "iaf_ch_id.insert(1, 'group', pd.cut(iaf_ch_id['id'], bins=[0, 100, 200, 300, 400, float('inf')], labels=['OC', 'IUD', 'NCF', 'NCL', 'M']))\n",
    "power_ch_id.insert(1, 'group', pd.cut(power_ch_id['id'], bins=[0, 100, 200, 300, 400, float('inf')], labels=['OC', 'IUD', 'NCF', 'NCL', 'M']))"
   ]
  },
  {
   "cell_type": "markdown",
   "id": "2eeb7a76-bfa3-481a-a3cc-6d87abca2f4d",
   "metadata": {},
   "source": [
    "## Assessing NaN Values Across Subjects and Channels\n",
    "\n",
    "* NaN value threshold was established at 31 channels, constituting 50% of total channels.\n",
    "* Subjects with data showing more than 31 missing alpha peaks were excluded from the analysis."
   ]
  },
  {
   "cell_type": "code",
   "execution_count": null,
   "id": "e4f90fc7-3307-4e65-bde3-84200043fd01",
   "metadata": {},
   "outputs": [],
   "source": [
    "nan_threshold = 31\n",
    "\n",
    "# Initialize empty lists for filtered data\n",
    "filtered_data_iaf = []\n",
    "filtered_data_pw = []\n",
    "subjects_exceeding_nan = []\n",
    "\n",
    "for (iaf_row, pw_row) in zip(iaf_ch_id.iterrows(), power_ch_id.iterrows()):\n",
    "    iaf_index, iaf_data = iaf_row\n",
    "    pw_index, pw_data = pw_row\n",
    "    \n",
    "    # Assuming 'id' is the same for both iaf and power datasets\n",
    "    subject_id = iaf_data['id']\n",
    "\n",
    "    # Count NaNs (using either iaf or power, as NaN count is the same)\n",
    "    nan_count = iaf_data.isnull().sum()\n",
    "\n",
    "    # Filter both iaf and power data based on the NaN count\n",
    "    if nan_count <= nan_threshold:\n",
    "        filtered_data_iaf.append(iaf_data)\n",
    "        filtered_data_pw.append(pw_data)\n",
    "    else:\n",
    "        subjects_exceeding_nan.append((subject_id, nan_count))\n",
    "\n",
    "# Convert lists to dataframes\n",
    "filtered_iaf = pd.DataFrame(filtered_data_iaf)\n",
    "filtered_power = pd.DataFrame(filtered_data_pw)\n",
    "\n",
    "# Print subjects with more than 31 NaN values\n",
    "print(\"Subjects with more than 31 NaN values:\")\n",
    "for subject, nan_count in subjects_exceeding_nan:\n",
    "    print(f\"Subject ID: {subject}, NaN count: {nan_count}\")\n"
   ]
  },
  {
   "cell_type": "markdown",
   "id": "671ae65f-76bf-48d6-9621-5872ca0b22f1",
   "metadata": {},
   "source": [
    "## Extracting Data From the Specific Channel(s) \n",
    "The folowing code is to:\n",
    "* Extract the data from specific channel\n",
    "* Calculate median parameter values for each group\n",
    "* Save the data to Excel"
   ]
  },
  {
   "cell_type": "code",
   "execution_count": null,
   "id": "d625b246",
   "metadata": {},
   "outputs": [],
   "source": [
    "# Specify the channel\n",
    "channel = 'Pz'\n",
    "\n",
    "# power and iaf from a specified channel(s) for each subject\n",
    "power_pz = filtered_power[['id', 'group', channel]]\n",
    "iaf_pz = filtered_iaf[['id', 'group', channel]]"
   ]
  },
  {
   "cell_type": "code",
   "execution_count": null,
   "id": "956f2809-7b6b-4e31-9695-897b02a88bb3",
   "metadata": {},
   "outputs": [],
   "source": [
    "data_frames = [\n",
    "    ('iaf_Pz', iaf_pz),\n",
    "    ('power_pz', power_pz),\n",
    "    ('iaf_unfiltered_all_chans', iaf_ch_id),\n",
    "    ('power_unfiltered_all_chans', power_ch_id),\n",
    "    ('iaf_each_ch_sbj_removed_subj', filtered_iaf),\n",
    "    ('power_each_ch_sbj_removed_subj', filtered_power),\n",
    "]\n",
    "\n",
    "with pd.ExcelWriter('iaf_power.xlsx') as writer:\n",
    "    for sheet_name, data_frame in data_frames:\n",
    "        data_frame.to_excel(writer, sheet_name=sheet_name, index=False)"
   ]
  }
 ],
 "metadata": {
  "kernelspec": {
   "display_name": "Python 3 (ipykernel)",
   "language": "python",
   "name": "python3"
  },
  "language_info": {
   "codemirror_mode": {
    "name": "ipython",
    "version": 3
   },
   "file_extension": ".py",
   "mimetype": "text/x-python",
   "name": "python",
   "nbconvert_exporter": "python",
   "pygments_lexer": "ipython3",
   "version": "3.10.13"
  }
 },
 "nbformat": 4,
 "nbformat_minor": 5
}
