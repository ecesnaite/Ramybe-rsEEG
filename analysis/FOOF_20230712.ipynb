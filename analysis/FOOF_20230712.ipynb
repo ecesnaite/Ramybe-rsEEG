{
 "cells": [
  {
   "cell_type": "code",
   "execution_count": null,
   "id": "eaa33150",
   "metadata": {},
   "outputs": [],
   "source": [
    "import os as os\n",
    "from fooof import FOOOF, FOOOFGroup\n",
    "import scipy.io as spio\n",
    "import numpy as np\n",
    "import matplotlib.pyplot as plt\n",
    "from matplotlib.backends.backend_pdf import PdfPages\n",
    "from fooof.plts.annotate import plot_annotated_peak_search\n",
    "import sys\n",
    "\n",
    "\n",
    "%matplotlib inline"
   ]
  },
  {
   "cell_type": "code",
   "execution_count": null,
   "id": "8cd41894",
   "metadata": {},
   "outputs": [],
   "source": [
    "data = spio.loadmat('/Users/linagladutyte/Documents/LABES/RAMYBE/FOOF/scripts/psd_and_freq_for_FOOOF_06072023.mat', squeeze_me=True)#a .mat file structure that contains all subjects (as rows) and their PSD values for each EEG channel in 'psd' structure\n",
    "data_all = data['psd']"
   ]
  },
  {
   "cell_type": "code",
   "execution_count": null,
   "id": "f0b72068",
   "metadata": {},
   "outputs": [],
   "source": [
    "# Set the frequency range upon which to fit FOOOF\n",
    "freq_range = [3, 40]\n",
    "\n",
    "# Initialize the results list\n",
    "results = [] \n",
    "result =[]"
   ]
  },
  {
   "cell_type": "code",
   "execution_count": null,
   "id": "0325f692",
   "metadata": {},
   "outputs": [],
   "source": [
    "subj=0\n",
    "chan=0\n",
    "\n",
    "# no of subjects\n",
    "data_all.shape[0]"
   ]
  },
  {
   "cell_type": "code",
   "execution_count": null,
   "id": "1deea6f9",
   "metadata": {},
   "outputs": [],
   "source": [
    "# Specify the directory path \n",
    "directory = '/Users/linagladutyte/Documents/LABES/RAMYBE/FOOF/paramsß/'"
   ]
  },
  {
   "cell_type": "code",
   "execution_count": null,
   "id": "bef111c5",
   "metadata": {},
   "outputs": [],
   "source": [
    "# Iterate over subjects\n",
    "for subj in range(data_all.shape[0]):\n",
    "    fm = FOOOF(peak_threshold=2.0)\n",
    "    data = data_all['spect'][subj]\n",
    "    name = data_all['ID'][subj]\n",
    "    freqs = data_all['freq'][subj]\n",
    "\n",
    "    # Create empty dictionaries for each parameter\n",
    "    ap_params_dict = {}\n",
    "    peak_params_dict = {}\n",
    "    r_squared_dict = {}\n",
    "    fit_error_dict = {}\n",
    "    gauss_params_dict = {}\n",
    "\n",
    "    # Iterate over channels\n",
    "    for chan in range(data.shape[0]):\n",
    "        spectrum = data[chan]\n",
    "\n",
    "        # Fit the model\n",
    "        fm.fit(freqs, spectrum, freq_range)\n",
    "        #fm.report()\n",
    "\n",
    "        # Get the model fit results\n",
    "        ap_params, peak_params, r_squared, fit_error, gauss_params = fm.get_results()\n",
    "\n",
    "        # Save each parameter separately for each channel\n",
    "        ap_params_dict[f'channel_{chan+1}'] = ap_params # Aperiodic Parameters: offset, exponent\n",
    "        peak_params_dict[f'channel_{chan+1}'] = peak_params #  center frequency(CF); power (PW); band width (BW)\n",
    "        r_squared_dict[f'channel_{chan+1}'] = r_squared \n",
    "        fit_error_dict[f'channel_{chan+1}'] = fit_error \n",
    "        gauss_params_dict[f'channel_{chan+1}'] = gauss_params #gaussian fit. params: CF; PW; BW"
   ]
  },
  {
   "cell_type": "code",
   "execution_count": null,
   "id": "83a4a486",
   "metadata": {},
   "outputs": [],
   "source": [
    "# Save each parameter dictionary for the subject as MATLAB .mat file\n",
    "    savename = f'{name}_parameters.mat'\n",
    "    spio.savemat(savename, mdict={'ap_params': ap_params_dict, \n",
    "                                  'peak_params': peak_params_dict,\n",
    "                                  'r_squared': r_squared_dict,\n",
    "                                  'fit_error': fit_error_dict,\n",
    "                                  'gauss_params': gauss_params_dict})"
   ]
  },
  {
   "cell_type": "code",
   "execution_count": null,
   "id": "5a3d391b",
   "metadata": {},
   "outputs": [],
   "source": [
    "##### to plot parameters for one subject \n",
    "\n",
    "\n",
    "#Specify the identification code of the subject you want to extract parameters for\n",
    "subj_id = 'UID_102'\n",
    "\n",
    "# Iterate over subjects\n",
    "for subj in range(data_all.shape[0]):\n",
    "    fm = FOOOF(peak_threshold=1.0)\n",
    "    data = data_all['spect'][subj]\n",
    "    name = data_all['ID'][subj]\n",
    "    freqs = data_all['freq'][subj]\n",
    "\n",
    "    if name == subj_id:\n",
    "        # Iterate over channels\n",
    "        for chan in range(data.shape[0]):\n",
    "            spectrum = data[chan]\n",
    "\n",
    "            # Fit the model\n",
    "            fm.fit(freqs, spectrum, freq_range)\n",
    "            fm.report()"
   ]
  },
  {
   "cell_type": "code",
   "execution_count": null,
   "id": "36226d77",
   "metadata": {},
   "outputs": [],
   "source": [
    "##### to plot parameters for specific subject and channel\n",
    "\n",
    "# Specify the identification code of the subject you want to extract parameters for\n",
    "subj_id = 'NCF_207'\n",
    "# Specify the channel number you want to extract parameters for\n",
    "channel_num = 27\n",
    "\n",
    "# Iterate over subjects\n",
    "for subj in range(data_all.shape[0]):\n",
    "    fm = FOOOF(peak_threshold=2.0)\n",
    "    data = data_all['spect'][subj]\n",
    "    name = data_all['ID'][subj]\n",
    "    freqs = data_all['freq'][subj]\n",
    "\n",
    "    if name == subj_id:\n",
    "        # Iterate over channels\n",
    "        for chan in range(data.shape[0]):\n",
    "            if chan == channel_num:\n",
    "                spectrum = data[chan]\n",
    "\n",
    "                # Fit the model\n",
    "                fm.fit(freqs, spectrum, freq_range)\n",
    "                fm.report()\n",
    "                \n",
    "                plot_annotated_peak_search(fm) # illustrate peak search "
   ]
  },
  {
   "cell_type": "code",
   "execution_count": null,
   "id": "6938b930",
   "metadata": {},
   "outputs": [],
   "source": []
  },
  {
   "cell_type": "code",
   "execution_count": null,
   "id": "68841519",
   "metadata": {},
   "outputs": [],
   "source": []
  },
  {
   "cell_type": "code",
   "execution_count": null,
   "id": "7aed30d1",
   "metadata": {},
   "outputs": [],
   "source": []
  },
  {
   "cell_type": "code",
   "execution_count": null,
   "id": "c1cea77c",
   "metadata": {},
   "outputs": [],
   "source": []
  }
 ],
 "metadata": {
  "kernelspec": {
   "display_name": "Python 3 (ipykernel)",
   "language": "python",
   "name": "python3"
  },
  "language_info": {
   "codemirror_mode": {
    "name": "ipython",
    "version": 3
   },
   "file_extension": ".py",
   "mimetype": "text/x-python",
   "name": "python",
   "nbconvert_exporter": "python",
   "pygments_lexer": "ipython3",
   "version": "3.10.11"
  }
 },
 "nbformat": 4,
 "nbformat_minor": 5
}
