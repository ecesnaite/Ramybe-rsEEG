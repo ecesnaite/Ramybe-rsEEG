{
 "cells": [
  {
   "cell_type": "code",
   "execution_count": 1,
   "id": "0edc7ea8",
   "metadata": {},
   "outputs": [],
   "source": [
    "import os\n",
    "import numpy as np\n",
    "import pandas as pd\n",
    "import scipy.io as spio\n",
    "from openpyxl import Workbook"
   ]
  },
  {
   "cell_type": "code",
   "execution_count": 2,
   "id": "3f9e44c4",
   "metadata": {},
   "outputs": [
    {
     "data": {
      "text/plain": [
       "['alpha_peaks_matslope_mtx_05.mat',\n",
       " 'alpha_peaks_matall_IDs_174.mat',\n",
       " 'alpha_peaks_matalpha_pow_mtx_05.mat',\n",
       " 'alpha_peaks_matchannel_locations_62.mat',\n",
       " 'alpha_peaks_matchannel_labels_62.mat',\n",
       " 'alpha_peaks_matalpha_params_findpeaks_detrend_3_40_7_13_threshold_05.mat',\n",
       " 'alpha_peaks_matalpha_freq_mtx_05.mat',\n",
       " 'alpha_peaks_matoffset_mtx_05.mat']"
      ]
     },
     "execution_count": 2,
     "metadata": {},
     "output_type": "execute_result"
    }
   ],
   "source": [
    "os.listdir('/Users/linagladutyte/Documents/LABES/RAMYBE/FOOF/alpha_parameters/alpha_peaks_mat')"
   ]
  },
  {
   "cell_type": "code",
   "execution_count": 4,
   "id": "b4317da5",
   "metadata": {},
   "outputs": [],
   "source": [
    "# load matlab matrixes, extract parameters\n",
    "iaf_mat = spio.loadmat('alpha_peaks_mat/alpha_peaks_matalpha_freq_mtx_05.mat')['iaf']\n",
    "power_mat = spio.loadmat('alpha_peaks_mat/alpha_peaks_matalpha_pow_mtx_05.mat')['broadpow']\n",
    "\n",
    "subj_id_mat = spio.loadmat('alpha_peaks_mat/alpha_peaks_matall_IDs_174.mat')['ID_all'][0]\n",
    "channels_mat = spio.loadmat('alpha_peaks_mat/alpha_peaks_matchannel_labels_62.mat')['chan_label'][0]"
   ]
  },
  {
   "cell_type": "code",
   "execution_count": 6,
   "id": "4a7f2d74",
   "metadata": {},
   "outputs": [],
   "source": [
    "names = []\n",
    "for x in range(len(subj_id_mat)):\n",
    "    name = subj_id_mat[x][0]\n",
    "    names.append(name)"
   ]
  },
  {
   "cell_type": "code",
   "execution_count": 7,
   "id": "d14f4115",
   "metadata": {},
   "outputs": [],
   "source": [
    "channels = []\n",
    "for y in range(len(channels_mat)):\n",
    "    channel = channels_mat[y][0]\n",
    "    channels.append(channel)"
   ]
  },
  {
   "cell_type": "code",
   "execution_count": 8,
   "id": "85c163f2",
   "metadata": {},
   "outputs": [],
   "source": [
    "# Convert the list to a numpy array\n",
    "iaf = np.array(iaf_mat)\n",
    "power = np.array(power_mat)\n",
    "\n",
    "# Create the DataFrame with slope values and modify the index values\n",
    "iaf_ch_id = pd.DataFrame(iaf, columns=channels, index=[int(''.join(filter(str.isdigit, name))) for name in names])\n",
    "power_ch_id = pd.DataFrame(power, columns=channels, index=[int(''.join(filter(str.isdigit, name))) for name in names])"
   ]
  },
  {
   "cell_type": "code",
   "execution_count": 9,
   "id": "32ed828d",
   "metadata": {},
   "outputs": [],
   "source": [
    "#VALUES FOR EACH SUBJECT AND CHANNEL \n",
    "# Reset the index and rename the column\n",
    "iaf_ch_id = iaf_ch_id.reset_index().rename(columns={'index': 'id'})\n",
    "power_ch_id = power_ch_id.reset_index().rename(columns={'index': 'id'})\n",
    "\n",
    "\n",
    "# Create a mapping dictionary for the 'group' column\n",
    "group_mapping = {\n",
    "    (0, 100): 'OC',\n",
    "    (100, 200): 'IUD',\n",
    "    (200, 300): 'NCF',\n",
    "    (300, 400): 'NCL',\n",
    "    (400, float('inf')): 'M',\n",
    "}\n",
    "\n",
    "# Add the 'group' column based on ID values\n",
    "iaf_ch_id.insert(1, 'group', pd.cut(iaf_ch_id['id'], bins=[0, 100, 200, 300, 400, float('inf')], labels=['OC', 'IUD', 'NCF', 'NCL', 'M']))\n",
    "power_ch_id.insert(1, 'group', pd.cut(power_ch_id['id'], bins=[0, 100, 200, 300, 400, float('inf')], labels=['OC', 'IUD', 'NCF', 'NCL', 'M']))"
   ]
  },
  {
   "cell_type": "code",
   "execution_count": 10,
   "id": "f8a34586",
   "metadata": {},
   "outputs": [
    {
     "name": "stdout",
     "output_type": "stream",
     "text": [
      "Subjects with more than 31 NaN values:\n",
      "Subject ID: 221, NaN count: 39\n",
      "Subject ID: 13, NaN count: 58\n",
      "Subject ID: 118, NaN count: 52\n",
      "Subject ID: 122, NaN count: 62\n"
     ]
    }
   ],
   "source": [
    "iaf_nan = []\n",
    "nan_threshold = 31\n",
    "filtered_data_iaf = []\n",
    "\n",
    "for index, row in iaf_ch_id.iterrows():\n",
    "    subject_id = row['id']\n",
    "    nan_count = row.isnull().sum()\n",
    "    \n",
    "    if nan_count <= nan_threshold:\n",
    "        filtered_data_iaf.append(row)\n",
    "    else:\n",
    "        iaf_nan.append((subject_id, nan_count))\n",
    "\n",
    "filtered_iaf = pd.DataFrame(filtered_data_iaf)\n",
    "\n",
    "print(\"Subjects with more than 31 NaN values:\")\n",
    "for subject, nan_count in iaf_nan:\n",
    "    print(f\"Subject ID: {subject}, NaN count: {nan_count}\")\n"
   ]
  },
  {
   "cell_type": "code",
   "execution_count": 11,
   "id": "5f75f616",
   "metadata": {},
   "outputs": [
    {
     "name": "stdout",
     "output_type": "stream",
     "text": [
      "Subjects with more than 31 NaN values:\n",
      "Subject ID: 221, NaN count: 39\n",
      "Subject ID: 13, NaN count: 58\n",
      "Subject ID: 118, NaN count: 52\n",
      "Subject ID: 122, NaN count: 62\n"
     ]
    }
   ],
   "source": [
    "iaf_nan = []\n",
    "nan_threshold = 31\n",
    "filtered_data_pw = []\n",
    "\n",
    "for index, row in power_ch_id.iterrows():\n",
    "    subject_id = row['id']\n",
    "    nan_count = row.isnull().sum()\n",
    "    \n",
    "    if nan_count <= nan_threshold:\n",
    "        filtered_data_pw.append(row)\n",
    "    else:\n",
    "        iaf_nan.append((subject_id, nan_count))\n",
    "\n",
    "filtered_power = pd.DataFrame(filtered_data_pw)\n",
    "\n",
    "print(\"Subjects with more than 31 NaN values:\")\n",
    "for subject, nan_count in iaf_nan:\n",
    "    print(f\"Subject ID: {subject}, NaN count: {nan_count}\")"
   ]
  },
  {
   "cell_type": "code",
   "execution_count": 12,
   "id": "9cd2550f",
   "metadata": {},
   "outputs": [],
   "source": [
    "#MEDIAN VALUES FOR EACH SUBJECT \n",
    "# selecting 'id' and 'group' columns\n",
    "id_group_median_iaf = filtered_iaf.iloc[:, 0:2]\n",
    "# calculating and adding 'median iaf' column\n",
    "id_group_median_iaf['median_iaf'] = filtered_iaf.iloc[:, 2:65].median(axis=1)\n",
    "\n",
    "id_group_median_power = filtered_power.iloc[:, 0:2]\n",
    "id_group_median_power['median_power'] = filtered_power.iloc[:, 2:65].median(axis=1)"
   ]
  },
  {
   "cell_type": "code",
   "execution_count": 152,
   "id": "c39d78ac",
   "metadata": {},
   "outputs": [],
   "source": [
    "# Remove the 'id' column\n",
    "iaf_ch_id_filtered = filtered_iaf.drop('id', axis=1)\n",
    "power_ch_id_filtered = filtered_power.drop('id', axis=1)\n",
    "\n",
    "# Calculate the median values for each channel based on the 'group' column\n",
    "median_iaf_ch = iaf_ch_id_filtered.groupby('group').median()\n",
    "median_power_ch = power_ch_id_filtered.groupby('group').median()\n",
    "\n",
    "# Reset the index and rename the columns\n",
    "median_iaf_ch = median_iaf_ch.reset_index().rename(columns={'index': 'group'})\n",
    "median_power_ch = median_power_ch.reset_index().rename(columns={'index': 'group'})\n",
    "\n",
    "# Convert the 'group' column to category type\n",
    "median_iaf_ch['group'] = median_iaf_ch['group'].astype('category')\n",
    "median_power_ch['group'] = median_power_ch['group'].astype('category')"
   ]
  },
  {
   "cell_type": "code",
   "execution_count": 154,
   "id": "4300b8b3",
   "metadata": {},
   "outputs": [],
   "source": [
    "data_frames = [\n",
    "    ('iaf_each_ch_sbj_original', iaf_ch_id),\n",
    "    ('iaf_each_ch_sbj_removed_subj', iaf_ch_id_filtered),\n",
    "    ('median_iaf_groups', median_iaf_ch),\n",
    "    ('id_group_median_iaf', id_group_median_iaf),\n",
    "    ('power_each_ch_sbj_original', power_ch_id),\n",
    "    ('power_each_ch_sbj_removed_subj', power_ch_id_filtered),\n",
    "    ('power_slope_groups', median_power_ch),\n",
    "    ('id_group_median_power', id_group_median_power),\n",
    "]\n",
    "\n",
    "with pd.ExcelWriter('iaf_power_ch_groups.xlsx') as writer:\n",
    "    for sheet_name, data_frame in data_frames:\n",
    "        data_frame.to_excel(writer, sheet_name=sheet_name, index=False)\n"
   ]
  },
  {
   "cell_type": "code",
   "execution_count": null,
   "id": "c13b7d49",
   "metadata": {},
   "outputs": [],
   "source": []
  },
  {
   "cell_type": "code",
   "execution_count": null,
   "id": "bb1705d1",
   "metadata": {},
   "outputs": [],
   "source": []
  },
  {
   "cell_type": "code",
   "execution_count": null,
   "id": "b08b4759",
   "metadata": {},
   "outputs": [],
   "source": []
  },
  {
   "cell_type": "code",
   "execution_count": null,
   "id": "5a89bf6f",
   "metadata": {},
   "outputs": [],
   "source": []
  }
 ],
 "metadata": {
  "kernelspec": {
   "display_name": "Python 3 (ipykernel)",
   "language": "python",
   "name": "python3"
  },
  "language_info": {
   "codemirror_mode": {
    "name": "ipython",
    "version": 3
   },
   "file_extension": ".py",
   "mimetype": "text/x-python",
   "name": "python",
   "nbconvert_exporter": "python",
   "pygments_lexer": "ipython3",
   "version": "3.10.11"
  }
 },
 "nbformat": 4,
 "nbformat_minor": 5
}
